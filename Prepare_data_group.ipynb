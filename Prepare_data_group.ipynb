{
 "cells": [
  {
   "cell_type": "code",
   "execution_count": 1,
   "metadata": {
    "collapsed": true
   },
   "outputs": [],
   "source": [
    "import pandas as pd"
   ]
  },
  {
   "cell_type": "code",
   "execution_count": 2,
   "metadata": {
    "collapsed": true
   },
   "outputs": [],
   "source": [
    "import numpy as np"
   ]
  },
  {
   "cell_type": "code",
   "execution_count": 3,
   "metadata": {
    "collapsed": true
   },
   "outputs": [],
   "source": [
    "import glob"
   ]
  },
  {
   "cell_type": "code",
   "execution_count": 4,
   "metadata": {
    "collapsed": true
   },
   "outputs": [],
   "source": [
    "allFiles = glob.glob(\"*.csv\")"
   ]
  },
  {
   "cell_type": "code",
   "execution_count": 5,
   "metadata": {},
   "outputs": [
    {
     "name": "stdout",
     "output_type": "stream",
     "text": [
      "2015-Q1-Trips-History-Data.csv\n",
      "2015-Q2-Trips-History-Data.csv\n",
      "2015-Q3-cabi-trip-history-data.csv\n",
      "2015-Q4-Trips-History-Data.csv\n",
      "2016-Q1-Trips-History-Data.csv\n",
      "2016-Q2-Trips-History-Data.csv\n",
      "2016-Q3-Trips-History-Data-1.csv\n",
      "2016-Q3-Trips-History-Data-2.csv\n",
      "2016-Q4-Trips-History-Data.csv\n"
     ]
    }
   ],
   "source": [
    "for _file in allFiles:\n",
    "    print _file"
   ]
  },
  {
   "cell_type": "code",
   "execution_count": 6,
   "metadata": {
    "collapsed": true
   },
   "outputs": [],
   "source": [
    "list_ = []\n",
    "for file_ in allFiles:\n",
    "    df = pd.read_csv(file_)\n",
    "    list_.append(df)\n",
    "frame = pd.concat(list_)"
   ]
  },
  {
   "cell_type": "code",
   "execution_count": 7,
   "metadata": {
    "collapsed": true
   },
   "outputs": [],
   "source": [
    "df = frame"
   ]
  },
  {
   "cell_type": "code",
   "execution_count": 8,
   "metadata": {},
   "outputs": [
    {
     "data": {
      "text/html": [
       "<div>\n",
       "<style>\n",
       "    .dataframe thead tr:only-child th {\n",
       "        text-align: right;\n",
       "    }\n",
       "\n",
       "    .dataframe thead th {\n",
       "        text-align: left;\n",
       "    }\n",
       "\n",
       "    .dataframe tbody tr th {\n",
       "        vertical-align: top;\n",
       "    }\n",
       "</style>\n",
       "<table border=\"1\" class=\"dataframe\">\n",
       "  <thead>\n",
       "    <tr style=\"text-align: right;\">\n",
       "      <th></th>\n",
       "      <th>Account type</th>\n",
       "      <th>Bike #</th>\n",
       "      <th>Bike number</th>\n",
       "      <th>Duration (ms)</th>\n",
       "      <th>End date</th>\n",
       "      <th>End station</th>\n",
       "      <th>End station number</th>\n",
       "      <th>Member Type</th>\n",
       "      <th>Member type</th>\n",
       "      <th>Start date</th>\n",
       "      <th>Start station</th>\n",
       "      <th>Start station number</th>\n",
       "      <th>Subscription Type</th>\n",
       "      <th>Subscription type</th>\n",
       "      <th>Total duration (ms)</th>\n",
       "    </tr>\n",
       "  </thead>\n",
       "  <tbody>\n",
       "    <tr>\n",
       "      <th>0</th>\n",
       "      <td>NaN</td>\n",
       "      <td>NaN</td>\n",
       "      <td>W00612</td>\n",
       "      <td>NaN</td>\n",
       "      <td>1/1/2015 0:42</td>\n",
       "      <td>15th &amp; K St NW</td>\n",
       "      <td>NaN</td>\n",
       "      <td>NaN</td>\n",
       "      <td>NaN</td>\n",
       "      <td>1/1/2015 0:02</td>\n",
       "      <td>Constitution Ave &amp; 2nd St NW/DOL</td>\n",
       "      <td>NaN</td>\n",
       "      <td>Casual</td>\n",
       "      <td>NaN</td>\n",
       "      <td>2394764.0</td>\n",
       "    </tr>\n",
       "    <tr>\n",
       "      <th>1</th>\n",
       "      <td>NaN</td>\n",
       "      <td>NaN</td>\n",
       "      <td>W01140</td>\n",
       "      <td>NaN</td>\n",
       "      <td>1/1/2015 0:42</td>\n",
       "      <td>15th &amp; K St NW</td>\n",
       "      <td>NaN</td>\n",
       "      <td>NaN</td>\n",
       "      <td>NaN</td>\n",
       "      <td>1/1/2015 0:02</td>\n",
       "      <td>Constitution Ave &amp; 2nd St NW/DOL</td>\n",
       "      <td>NaN</td>\n",
       "      <td>Casual</td>\n",
       "      <td>NaN</td>\n",
       "      <td>2389161.0</td>\n",
       "    </tr>\n",
       "    <tr>\n",
       "      <th>2</th>\n",
       "      <td>NaN</td>\n",
       "      <td>NaN</td>\n",
       "      <td>W01226</td>\n",
       "      <td>NaN</td>\n",
       "      <td>1/1/2015 0:12</td>\n",
       "      <td>20th &amp; O St NW / Dupont South</td>\n",
       "      <td>NaN</td>\n",
       "      <td>NaN</td>\n",
       "      <td>NaN</td>\n",
       "      <td>1/1/2015 0:04</td>\n",
       "      <td>20th &amp; E St NW</td>\n",
       "      <td>NaN</td>\n",
       "      <td>Registered</td>\n",
       "      <td>NaN</td>\n",
       "      <td>468047.0</td>\n",
       "    </tr>\n",
       "    <tr>\n",
       "      <th>3</th>\n",
       "      <td>NaN</td>\n",
       "      <td>NaN</td>\n",
       "      <td>W20216</td>\n",
       "      <td>NaN</td>\n",
       "      <td>1/1/2015 0:13</td>\n",
       "      <td>15th &amp; Euclid St  NW</td>\n",
       "      <td>NaN</td>\n",
       "      <td>NaN</td>\n",
       "      <td>NaN</td>\n",
       "      <td>1/1/2015 0:07</td>\n",
       "      <td>Park Rd &amp; Holmead Pl NW</td>\n",
       "      <td>NaN</td>\n",
       "      <td>Registered</td>\n",
       "      <td>NaN</td>\n",
       "      <td>348068.0</td>\n",
       "    </tr>\n",
       "    <tr>\n",
       "      <th>4</th>\n",
       "      <td>NaN</td>\n",
       "      <td>NaN</td>\n",
       "      <td>W21005</td>\n",
       "      <td>NaN</td>\n",
       "      <td>1/1/2015 0:25</td>\n",
       "      <td>Thomas Circle</td>\n",
       "      <td>NaN</td>\n",
       "      <td>NaN</td>\n",
       "      <td>NaN</td>\n",
       "      <td>1/1/2015 0:09</td>\n",
       "      <td>Jefferson Dr &amp; 14th St SW</td>\n",
       "      <td>NaN</td>\n",
       "      <td>Casual</td>\n",
       "      <td>NaN</td>\n",
       "      <td>980844.0</td>\n",
       "    </tr>\n",
       "    <tr>\n",
       "      <th>5</th>\n",
       "      <td>NaN</td>\n",
       "      <td>NaN</td>\n",
       "      <td>W01126</td>\n",
       "      <td>NaN</td>\n",
       "      <td>1/1/2015 0:26</td>\n",
       "      <td>Thomas Circle</td>\n",
       "      <td>NaN</td>\n",
       "      <td>NaN</td>\n",
       "      <td>NaN</td>\n",
       "      <td>1/1/2015 0:10</td>\n",
       "      <td>Jefferson Dr &amp; 14th St SW</td>\n",
       "      <td>NaN</td>\n",
       "      <td>Casual</td>\n",
       "      <td>NaN</td>\n",
       "      <td>932411.0</td>\n",
       "    </tr>\n",
       "    <tr>\n",
       "      <th>6</th>\n",
       "      <td>NaN</td>\n",
       "      <td>NaN</td>\n",
       "      <td>W20464</td>\n",
       "      <td>NaN</td>\n",
       "      <td>1/1/2015 0:18</td>\n",
       "      <td>14th &amp; R St NW</td>\n",
       "      <td>NaN</td>\n",
       "      <td>NaN</td>\n",
       "      <td>NaN</td>\n",
       "      <td>1/1/2015 0:12</td>\n",
       "      <td>New York Ave &amp; 15th St NW</td>\n",
       "      <td>NaN</td>\n",
       "      <td>Registered</td>\n",
       "      <td>NaN</td>\n",
       "      <td>387061.0</td>\n",
       "    </tr>\n",
       "    <tr>\n",
       "      <th>7</th>\n",
       "      <td>NaN</td>\n",
       "      <td>NaN</td>\n",
       "      <td>W20416</td>\n",
       "      <td>NaN</td>\n",
       "      <td>1/1/2015 0:18</td>\n",
       "      <td>Clarendon Metro / Wilson Blvd &amp; N Highland St</td>\n",
       "      <td>NaN</td>\n",
       "      <td>NaN</td>\n",
       "      <td>NaN</td>\n",
       "      <td>1/1/2015 0:13</td>\n",
       "      <td>Wilson Blvd &amp; N Uhle St</td>\n",
       "      <td>NaN</td>\n",
       "      <td>Registered</td>\n",
       "      <td>NaN</td>\n",
       "      <td>321333.0</td>\n",
       "    </tr>\n",
       "    <tr>\n",
       "      <th>8</th>\n",
       "      <td>NaN</td>\n",
       "      <td>NaN</td>\n",
       "      <td>W21343</td>\n",
       "      <td>NaN</td>\n",
       "      <td>1/1/2015 1:01</td>\n",
       "      <td>14th &amp; D St NW / Ronald Reagan Building</td>\n",
       "      <td>NaN</td>\n",
       "      <td>NaN</td>\n",
       "      <td>NaN</td>\n",
       "      <td>1/1/2015 0:17</td>\n",
       "      <td>Jefferson Memorial</td>\n",
       "      <td>NaN</td>\n",
       "      <td>Casual</td>\n",
       "      <td>NaN</td>\n",
       "      <td>2646785.0</td>\n",
       "    </tr>\n",
       "    <tr>\n",
       "      <th>9</th>\n",
       "      <td>NaN</td>\n",
       "      <td>NaN</td>\n",
       "      <td>W21178</td>\n",
       "      <td>NaN</td>\n",
       "      <td>1/1/2015 0:21</td>\n",
       "      <td>Thomas Circle</td>\n",
       "      <td>NaN</td>\n",
       "      <td>NaN</td>\n",
       "      <td>NaN</td>\n",
       "      <td>1/1/2015 0:16</td>\n",
       "      <td>17th &amp; Corcoran St NW</td>\n",
       "      <td>NaN</td>\n",
       "      <td>Registered</td>\n",
       "      <td>NaN</td>\n",
       "      <td>294645.0</td>\n",
       "    </tr>\n",
       "    <tr>\n",
       "      <th>10</th>\n",
       "      <td>NaN</td>\n",
       "      <td>NaN</td>\n",
       "      <td>W01241</td>\n",
       "      <td>NaN</td>\n",
       "      <td>1/1/2015 0:28</td>\n",
       "      <td>Lamont &amp; Mt Pleasant NW</td>\n",
       "      <td>NaN</td>\n",
       "      <td>NaN</td>\n",
       "      <td>NaN</td>\n",
       "      <td>1/1/2015 0:18</td>\n",
       "      <td>Adams Mill &amp; Columbia Rd NW</td>\n",
       "      <td>NaN</td>\n",
       "      <td>Casual</td>\n",
       "      <td>NaN</td>\n",
       "      <td>607267.0</td>\n",
       "    </tr>\n",
       "    <tr>\n",
       "      <th>11</th>\n",
       "      <td>NaN</td>\n",
       "      <td>NaN</td>\n",
       "      <td>W00976</td>\n",
       "      <td>NaN</td>\n",
       "      <td>1/1/2015 0:30</td>\n",
       "      <td>King St Metro</td>\n",
       "      <td>NaN</td>\n",
       "      <td>NaN</td>\n",
       "      <td>NaN</td>\n",
       "      <td>1/1/2015 0:19</td>\n",
       "      <td>Market Square / King St &amp; Royal St</td>\n",
       "      <td>NaN</td>\n",
       "      <td>Casual</td>\n",
       "      <td>NaN</td>\n",
       "      <td>670671.0</td>\n",
       "    </tr>\n",
       "    <tr>\n",
       "      <th>12</th>\n",
       "      <td>NaN</td>\n",
       "      <td>NaN</td>\n",
       "      <td>W00494</td>\n",
       "      <td>NaN</td>\n",
       "      <td>1/1/2015 0:30</td>\n",
       "      <td>King St Metro</td>\n",
       "      <td>NaN</td>\n",
       "      <td>NaN</td>\n",
       "      <td>NaN</td>\n",
       "      <td>1/1/2015 0:20</td>\n",
       "      <td>Market Square / King St &amp; Royal St</td>\n",
       "      <td>NaN</td>\n",
       "      <td>Casual</td>\n",
       "      <td>NaN</td>\n",
       "      <td>631332.0</td>\n",
       "    </tr>\n",
       "    <tr>\n",
       "      <th>13</th>\n",
       "      <td>NaN</td>\n",
       "      <td>NaN</td>\n",
       "      <td>W01087</td>\n",
       "      <td>NaN</td>\n",
       "      <td>1/1/2015 0:29</td>\n",
       "      <td>1st &amp; Rhode Island Ave NW</td>\n",
       "      <td>NaN</td>\n",
       "      <td>NaN</td>\n",
       "      <td>NaN</td>\n",
       "      <td>1/1/2015 0:20</td>\n",
       "      <td>Columbia Rd &amp; Georgia Ave NW</td>\n",
       "      <td>NaN</td>\n",
       "      <td>Registered</td>\n",
       "      <td>NaN</td>\n",
       "      <td>544248.0</td>\n",
       "    </tr>\n",
       "    <tr>\n",
       "      <th>14</th>\n",
       "      <td>NaN</td>\n",
       "      <td>NaN</td>\n",
       "      <td>W00075</td>\n",
       "      <td>NaN</td>\n",
       "      <td>1/1/2015 0:28</td>\n",
       "      <td>Lamont &amp; Mt Pleasant NW</td>\n",
       "      <td>NaN</td>\n",
       "      <td>NaN</td>\n",
       "      <td>NaN</td>\n",
       "      <td>1/1/2015 0:20</td>\n",
       "      <td>Adams Mill &amp; Columbia Rd NW</td>\n",
       "      <td>NaN</td>\n",
       "      <td>Registered</td>\n",
       "      <td>NaN</td>\n",
       "      <td>484599.0</td>\n",
       "    </tr>\n",
       "    <tr>\n",
       "      <th>15</th>\n",
       "      <td>NaN</td>\n",
       "      <td>NaN</td>\n",
       "      <td>W00715</td>\n",
       "      <td>NaN</td>\n",
       "      <td>1/1/2015 0:22</td>\n",
       "      <td>11th &amp; M St NW</td>\n",
       "      <td>NaN</td>\n",
       "      <td>NaN</td>\n",
       "      <td>NaN</td>\n",
       "      <td>1/1/2015 0:20</td>\n",
       "      <td>Thomas Circle</td>\n",
       "      <td>NaN</td>\n",
       "      <td>Registered</td>\n",
       "      <td>NaN</td>\n",
       "      <td>116189.0</td>\n",
       "    </tr>\n",
       "    <tr>\n",
       "      <th>16</th>\n",
       "      <td>NaN</td>\n",
       "      <td>NaN</td>\n",
       "      <td>W01244</td>\n",
       "      <td>NaN</td>\n",
       "      <td>1/1/2015 0:41</td>\n",
       "      <td>Lynn &amp; 19th St North</td>\n",
       "      <td>NaN</td>\n",
       "      <td>NaN</td>\n",
       "      <td>NaN</td>\n",
       "      <td>1/1/2015 0:21</td>\n",
       "      <td>Jefferson Memorial</td>\n",
       "      <td>NaN</td>\n",
       "      <td>Registered</td>\n",
       "      <td>NaN</td>\n",
       "      <td>1153457.0</td>\n",
       "    </tr>\n",
       "    <tr>\n",
       "      <th>17</th>\n",
       "      <td>NaN</td>\n",
       "      <td>NaN</td>\n",
       "      <td>W21894</td>\n",
       "      <td>NaN</td>\n",
       "      <td>1/1/2015 0:33</td>\n",
       "      <td>7th &amp; R St NW / Shaw Library</td>\n",
       "      <td>NaN</td>\n",
       "      <td>NaN</td>\n",
       "      <td>NaN</td>\n",
       "      <td>1/1/2015 0:23</td>\n",
       "      <td>18th St &amp; Wyoming Ave NW</td>\n",
       "      <td>NaN</td>\n",
       "      <td>Registered</td>\n",
       "      <td>NaN</td>\n",
       "      <td>611941.0</td>\n",
       "    </tr>\n",
       "    <tr>\n",
       "      <th>18</th>\n",
       "      <td>NaN</td>\n",
       "      <td>NaN</td>\n",
       "      <td>W01222</td>\n",
       "      <td>NaN</td>\n",
       "      <td>1/1/2015 0:29</td>\n",
       "      <td>11th &amp; M St NW</td>\n",
       "      <td>NaN</td>\n",
       "      <td>NaN</td>\n",
       "      <td>NaN</td>\n",
       "      <td>1/1/2015 0:23</td>\n",
       "      <td>15th &amp; P St NW</td>\n",
       "      <td>NaN</td>\n",
       "      <td>Registered</td>\n",
       "      <td>NaN</td>\n",
       "      <td>359778.0</td>\n",
       "    </tr>\n",
       "    <tr>\n",
       "      <th>19</th>\n",
       "      <td>NaN</td>\n",
       "      <td>NaN</td>\n",
       "      <td>W21548</td>\n",
       "      <td>NaN</td>\n",
       "      <td>1/1/2015 1:00</td>\n",
       "      <td>14th &amp; D St NW / Ronald Reagan Building</td>\n",
       "      <td>NaN</td>\n",
       "      <td>NaN</td>\n",
       "      <td>NaN</td>\n",
       "      <td>1/1/2015 0:25</td>\n",
       "      <td>Jefferson Memorial</td>\n",
       "      <td>NaN</td>\n",
       "      <td>Casual</td>\n",
       "      <td>NaN</td>\n",
       "      <td>2104479.0</td>\n",
       "    </tr>\n",
       "    <tr>\n",
       "      <th>20</th>\n",
       "      <td>NaN</td>\n",
       "      <td>NaN</td>\n",
       "      <td>W00392</td>\n",
       "      <td>NaN</td>\n",
       "      <td>1/1/2015 0:41</td>\n",
       "      <td>34th &amp; Water St NW</td>\n",
       "      <td>NaN</td>\n",
       "      <td>NaN</td>\n",
       "      <td>NaN</td>\n",
       "      <td>1/1/2015 0:25</td>\n",
       "      <td>14th &amp; R St NW</td>\n",
       "      <td>NaN</td>\n",
       "      <td>Registered</td>\n",
       "      <td>NaN</td>\n",
       "      <td>928014.0</td>\n",
       "    </tr>\n",
       "    <tr>\n",
       "      <th>21</th>\n",
       "      <td>NaN</td>\n",
       "      <td>NaN</td>\n",
       "      <td>W00219</td>\n",
       "      <td>NaN</td>\n",
       "      <td>1/1/2015 0:42</td>\n",
       "      <td>California St &amp; Florida Ave NW</td>\n",
       "      <td>NaN</td>\n",
       "      <td>NaN</td>\n",
       "      <td>NaN</td>\n",
       "      <td>1/1/2015 0:28</td>\n",
       "      <td>1st &amp; Rhode Island Ave NW</td>\n",
       "      <td>NaN</td>\n",
       "      <td>Registered</td>\n",
       "      <td>NaN</td>\n",
       "      <td>829491.0</td>\n",
       "    </tr>\n",
       "    <tr>\n",
       "      <th>22</th>\n",
       "      <td>NaN</td>\n",
       "      <td>NaN</td>\n",
       "      <td>W00258</td>\n",
       "      <td>NaN</td>\n",
       "      <td>1/1/2015 0:39</td>\n",
       "      <td>Adams Mill &amp; Columbia Rd NW</td>\n",
       "      <td>NaN</td>\n",
       "      <td>NaN</td>\n",
       "      <td>NaN</td>\n",
       "      <td>1/1/2015 0:28</td>\n",
       "      <td>Calvert St &amp; Woodley Pl NW</td>\n",
       "      <td>NaN</td>\n",
       "      <td>Registered</td>\n",
       "      <td>NaN</td>\n",
       "      <td>619085.0</td>\n",
       "    </tr>\n",
       "    <tr>\n",
       "      <th>23</th>\n",
       "      <td>NaN</td>\n",
       "      <td>NaN</td>\n",
       "      <td>W00521</td>\n",
       "      <td>NaN</td>\n",
       "      <td>1/1/2015 0:37</td>\n",
       "      <td>14th &amp; V St NW</td>\n",
       "      <td>NaN</td>\n",
       "      <td>NaN</td>\n",
       "      <td>NaN</td>\n",
       "      <td>1/1/2015 0:28</td>\n",
       "      <td>20th &amp; O St NW / Dupont South</td>\n",
       "      <td>NaN</td>\n",
       "      <td>Registered</td>\n",
       "      <td>NaN</td>\n",
       "      <td>513312.0</td>\n",
       "    </tr>\n",
       "    <tr>\n",
       "      <th>24</th>\n",
       "      <td>NaN</td>\n",
       "      <td>NaN</td>\n",
       "      <td>W21251</td>\n",
       "      <td>NaN</td>\n",
       "      <td>1/1/2015 0:38</td>\n",
       "      <td>Adams Mill &amp; Columbia Rd NW</td>\n",
       "      <td>NaN</td>\n",
       "      <td>NaN</td>\n",
       "      <td>NaN</td>\n",
       "      <td>1/1/2015 0:29</td>\n",
       "      <td>Calvert St &amp; Woodley Pl NW</td>\n",
       "      <td>NaN</td>\n",
       "      <td>Registered</td>\n",
       "      <td>NaN</td>\n",
       "      <td>587230.0</td>\n",
       "    </tr>\n",
       "    <tr>\n",
       "      <th>25</th>\n",
       "      <td>NaN</td>\n",
       "      <td>NaN</td>\n",
       "      <td>W20945</td>\n",
       "      <td>NaN</td>\n",
       "      <td>1/1/2015 0:50</td>\n",
       "      <td>20th &amp; E St NW</td>\n",
       "      <td>NaN</td>\n",
       "      <td>NaN</td>\n",
       "      <td>NaN</td>\n",
       "      <td>1/1/2015 0:29</td>\n",
       "      <td>4th &amp; M St SW</td>\n",
       "      <td>NaN</td>\n",
       "      <td>Registered</td>\n",
       "      <td>NaN</td>\n",
       "      <td>1258411.0</td>\n",
       "    </tr>\n",
       "    <tr>\n",
       "      <th>26</th>\n",
       "      <td>NaN</td>\n",
       "      <td>NaN</td>\n",
       "      <td>W20894</td>\n",
       "      <td>NaN</td>\n",
       "      <td>1/1/2015 0:36</td>\n",
       "      <td>15th St &amp; Massachusetts Ave SE</td>\n",
       "      <td>NaN</td>\n",
       "      <td>NaN</td>\n",
       "      <td>NaN</td>\n",
       "      <td>1/1/2015 0:31</td>\n",
       "      <td>Eastern Market / 7th &amp; North Carolina Ave SE</td>\n",
       "      <td>NaN</td>\n",
       "      <td>Registered</td>\n",
       "      <td>NaN</td>\n",
       "      <td>325901.0</td>\n",
       "    </tr>\n",
       "    <tr>\n",
       "      <th>27</th>\n",
       "      <td>NaN</td>\n",
       "      <td>NaN</td>\n",
       "      <td>W21250</td>\n",
       "      <td>NaN</td>\n",
       "      <td>1/1/2015 0:36</td>\n",
       "      <td>15th St &amp; Massachusetts Ave SE</td>\n",
       "      <td>NaN</td>\n",
       "      <td>NaN</td>\n",
       "      <td>NaN</td>\n",
       "      <td>1/1/2015 0:31</td>\n",
       "      <td>Eastern Market / 7th &amp; North Carolina Ave SE</td>\n",
       "      <td>NaN</td>\n",
       "      <td>Registered</td>\n",
       "      <td>NaN</td>\n",
       "      <td>317482.0</td>\n",
       "    </tr>\n",
       "    <tr>\n",
       "      <th>28</th>\n",
       "      <td>NaN</td>\n",
       "      <td>NaN</td>\n",
       "      <td>W21962</td>\n",
       "      <td>NaN</td>\n",
       "      <td>1/1/2015 0:35</td>\n",
       "      <td>US Dept of State / Virginia Ave &amp; 21st St NW</td>\n",
       "      <td>NaN</td>\n",
       "      <td>NaN</td>\n",
       "      <td>NaN</td>\n",
       "      <td>1/1/2015 0:33</td>\n",
       "      <td>21st St &amp; Constitution Ave NW</td>\n",
       "      <td>NaN</td>\n",
       "      <td>Casual</td>\n",
       "      <td>NaN</td>\n",
       "      <td>122895.0</td>\n",
       "    </tr>\n",
       "    <tr>\n",
       "      <th>29</th>\n",
       "      <td>NaN</td>\n",
       "      <td>NaN</td>\n",
       "      <td>W21374</td>\n",
       "      <td>NaN</td>\n",
       "      <td>1/1/2015 0:48</td>\n",
       "      <td>Massachusetts Ave &amp; Dupont Circle NW</td>\n",
       "      <td>NaN</td>\n",
       "      <td>NaN</td>\n",
       "      <td>NaN</td>\n",
       "      <td>1/1/2015 0:32</td>\n",
       "      <td>Van Ness Metro / UDC</td>\n",
       "      <td>NaN</td>\n",
       "      <td>Registered</td>\n",
       "      <td>NaN</td>\n",
       "      <td>959800.0</td>\n",
       "    </tr>\n",
       "    <tr>\n",
       "      <th>...</th>\n",
       "      <td>...</td>\n",
       "      <td>...</td>\n",
       "      <td>...</td>\n",
       "      <td>...</td>\n",
       "      <td>...</td>\n",
       "      <td>...</td>\n",
       "      <td>...</td>\n",
       "      <td>...</td>\n",
       "      <td>...</td>\n",
       "      <td>...</td>\n",
       "      <td>...</td>\n",
       "      <td>...</td>\n",
       "      <td>...</td>\n",
       "      <td>...</td>\n",
       "      <td>...</td>\n",
       "    </tr>\n",
       "    <tr>\n",
       "      <th>771038</th>\n",
       "      <td>NaN</td>\n",
       "      <td>NaN</td>\n",
       "      <td>W22455</td>\n",
       "      <td>1619299.0</td>\n",
       "      <td>10/1/2016 0:32</td>\n",
       "      <td>New York Ave &amp; 15th St NW</td>\n",
       "      <td>31222.0</td>\n",
       "      <td>Casual</td>\n",
       "      <td>NaN</td>\n",
       "      <td>10/1/2016 0:06</td>\n",
       "      <td>Henry Bacon Dr &amp; Lincoln Memorial Circle NW</td>\n",
       "      <td>31289.0</td>\n",
       "      <td>NaN</td>\n",
       "      <td>NaN</td>\n",
       "      <td>NaN</td>\n",
       "    </tr>\n",
       "    <tr>\n",
       "      <th>771039</th>\n",
       "      <td>NaN</td>\n",
       "      <td>NaN</td>\n",
       "      <td>W21731</td>\n",
       "      <td>783534.0</td>\n",
       "      <td>10/1/2016 0:19</td>\n",
       "      <td>18th &amp; M St NW</td>\n",
       "      <td>31221.0</td>\n",
       "      <td>Registered</td>\n",
       "      <td>NaN</td>\n",
       "      <td>10/1/2016 0:06</td>\n",
       "      <td>15th &amp; P St NW</td>\n",
       "      <td>31201.0</td>\n",
       "      <td>NaN</td>\n",
       "      <td>NaN</td>\n",
       "      <td>NaN</td>\n",
       "    </tr>\n",
       "    <tr>\n",
       "      <th>771040</th>\n",
       "      <td>NaN</td>\n",
       "      <td>NaN</td>\n",
       "      <td>W20482</td>\n",
       "      <td>224111.0</td>\n",
       "      <td>10/1/2016 0:10</td>\n",
       "      <td>14th St &amp; Colorado Ave NW</td>\n",
       "      <td>31407.0</td>\n",
       "      <td>Registered</td>\n",
       "      <td>NaN</td>\n",
       "      <td>10/1/2016 0:06</td>\n",
       "      <td>Georgia &amp; Missouri Ave NW</td>\n",
       "      <td>31411.0</td>\n",
       "      <td>NaN</td>\n",
       "      <td>NaN</td>\n",
       "      <td>NaN</td>\n",
       "    </tr>\n",
       "    <tr>\n",
       "      <th>771041</th>\n",
       "      <td>NaN</td>\n",
       "      <td>NaN</td>\n",
       "      <td>W21247</td>\n",
       "      <td>1641925.0</td>\n",
       "      <td>10/1/2016 0:33</td>\n",
       "      <td>New York Ave &amp; 15th St NW</td>\n",
       "      <td>31222.0</td>\n",
       "      <td>Casual</td>\n",
       "      <td>NaN</td>\n",
       "      <td>10/1/2016 0:05</td>\n",
       "      <td>Henry Bacon Dr &amp; Lincoln Memorial Circle NW</td>\n",
       "      <td>31289.0</td>\n",
       "      <td>NaN</td>\n",
       "      <td>NaN</td>\n",
       "      <td>NaN</td>\n",
       "    </tr>\n",
       "    <tr>\n",
       "      <th>771042</th>\n",
       "      <td>NaN</td>\n",
       "      <td>NaN</td>\n",
       "      <td>W22554</td>\n",
       "      <td>1045515.0</td>\n",
       "      <td>10/1/2016 0:22</td>\n",
       "      <td>15th St &amp; Massachusetts Ave SE</td>\n",
       "      <td>31626.0</td>\n",
       "      <td>Registered</td>\n",
       "      <td>NaN</td>\n",
       "      <td>10/1/2016 0:05</td>\n",
       "      <td>1st &amp; N St  SE</td>\n",
       "      <td>31209.0</td>\n",
       "      <td>NaN</td>\n",
       "      <td>NaN</td>\n",
       "      <td>NaN</td>\n",
       "    </tr>\n",
       "    <tr>\n",
       "      <th>771043</th>\n",
       "      <td>NaN</td>\n",
       "      <td>NaN</td>\n",
       "      <td>W23163</td>\n",
       "      <td>1717933.0</td>\n",
       "      <td>10/1/2016 0:33</td>\n",
       "      <td>New York Ave &amp; 15th St NW</td>\n",
       "      <td>31222.0</td>\n",
       "      <td>Casual</td>\n",
       "      <td>NaN</td>\n",
       "      <td>10/1/2016 0:04</td>\n",
       "      <td>Henry Bacon Dr &amp; Lincoln Memorial Circle NW</td>\n",
       "      <td>31289.0</td>\n",
       "      <td>NaN</td>\n",
       "      <td>NaN</td>\n",
       "      <td>NaN</td>\n",
       "    </tr>\n",
       "    <tr>\n",
       "      <th>771044</th>\n",
       "      <td>NaN</td>\n",
       "      <td>NaN</td>\n",
       "      <td>W00034</td>\n",
       "      <td>623896.0</td>\n",
       "      <td>10/1/2016 0:14</td>\n",
       "      <td>4th &amp; E St SW</td>\n",
       "      <td>31244.0</td>\n",
       "      <td>Casual</td>\n",
       "      <td>NaN</td>\n",
       "      <td>10/1/2016 0:04</td>\n",
       "      <td>1st &amp; N St  SE</td>\n",
       "      <td>31209.0</td>\n",
       "      <td>NaN</td>\n",
       "      <td>NaN</td>\n",
       "      <td>NaN</td>\n",
       "    </tr>\n",
       "    <tr>\n",
       "      <th>771045</th>\n",
       "      <td>NaN</td>\n",
       "      <td>NaN</td>\n",
       "      <td>W01265</td>\n",
       "      <td>609119.0</td>\n",
       "      <td>10/1/2016 0:14</td>\n",
       "      <td>4th &amp; E St SW</td>\n",
       "      <td>31244.0</td>\n",
       "      <td>Casual</td>\n",
       "      <td>NaN</td>\n",
       "      <td>10/1/2016 0:04</td>\n",
       "      <td>1st &amp; N St  SE</td>\n",
       "      <td>31209.0</td>\n",
       "      <td>NaN</td>\n",
       "      <td>NaN</td>\n",
       "      <td>NaN</td>\n",
       "    </tr>\n",
       "    <tr>\n",
       "      <th>771046</th>\n",
       "      <td>NaN</td>\n",
       "      <td>NaN</td>\n",
       "      <td>W20219</td>\n",
       "      <td>594961.0</td>\n",
       "      <td>10/1/2016 0:14</td>\n",
       "      <td>3rd St &amp; Pennsylvania Ave SE</td>\n",
       "      <td>31269.0</td>\n",
       "      <td>Registered</td>\n",
       "      <td>NaN</td>\n",
       "      <td>10/1/2016 0:04</td>\n",
       "      <td>1st &amp; N St  SE</td>\n",
       "      <td>31209.0</td>\n",
       "      <td>NaN</td>\n",
       "      <td>NaN</td>\n",
       "      <td>NaN</td>\n",
       "    </tr>\n",
       "    <tr>\n",
       "      <th>771047</th>\n",
       "      <td>NaN</td>\n",
       "      <td>NaN</td>\n",
       "      <td>W22373</td>\n",
       "      <td>287073.0</td>\n",
       "      <td>10/1/2016 0:09</td>\n",
       "      <td>3rd &amp; G St SE</td>\n",
       "      <td>31625.0</td>\n",
       "      <td>Registered</td>\n",
       "      <td>NaN</td>\n",
       "      <td>10/1/2016 0:04</td>\n",
       "      <td>M St &amp; New Jersey Ave SE</td>\n",
       "      <td>31208.0</td>\n",
       "      <td>NaN</td>\n",
       "      <td>NaN</td>\n",
       "      <td>NaN</td>\n",
       "    </tr>\n",
       "    <tr>\n",
       "      <th>771048</th>\n",
       "      <td>NaN</td>\n",
       "      <td>NaN</td>\n",
       "      <td>W22759</td>\n",
       "      <td>1343301.0</td>\n",
       "      <td>10/1/2016 0:26</td>\n",
       "      <td>18th St &amp; Wyoming Ave NW</td>\n",
       "      <td>31114.0</td>\n",
       "      <td>Casual</td>\n",
       "      <td>NaN</td>\n",
       "      <td>10/1/2016 0:04</td>\n",
       "      <td>14th &amp; Belmont St NW</td>\n",
       "      <td>31119.0</td>\n",
       "      <td>NaN</td>\n",
       "      <td>NaN</td>\n",
       "      <td>NaN</td>\n",
       "    </tr>\n",
       "    <tr>\n",
       "      <th>771049</th>\n",
       "      <td>NaN</td>\n",
       "      <td>NaN</td>\n",
       "      <td>W22718</td>\n",
       "      <td>1340116.0</td>\n",
       "      <td>10/1/2016 0:26</td>\n",
       "      <td>18th St &amp; Wyoming Ave NW</td>\n",
       "      <td>31114.0</td>\n",
       "      <td>Casual</td>\n",
       "      <td>NaN</td>\n",
       "      <td>10/1/2016 0:04</td>\n",
       "      <td>14th &amp; Belmont St NW</td>\n",
       "      <td>31119.0</td>\n",
       "      <td>NaN</td>\n",
       "      <td>NaN</td>\n",
       "      <td>NaN</td>\n",
       "    </tr>\n",
       "    <tr>\n",
       "      <th>771050</th>\n",
       "      <td>NaN</td>\n",
       "      <td>NaN</td>\n",
       "      <td>W22671</td>\n",
       "      <td>1613312.0</td>\n",
       "      <td>10/1/2016 0:31</td>\n",
       "      <td>17th St &amp; Independence Ave SW</td>\n",
       "      <td>31290.0</td>\n",
       "      <td>Casual</td>\n",
       "      <td>NaN</td>\n",
       "      <td>10/1/2016 0:04</td>\n",
       "      <td>Jefferson Memorial</td>\n",
       "      <td>31249.0</td>\n",
       "      <td>NaN</td>\n",
       "      <td>NaN</td>\n",
       "      <td>NaN</td>\n",
       "    </tr>\n",
       "    <tr>\n",
       "      <th>771051</th>\n",
       "      <td>NaN</td>\n",
       "      <td>NaN</td>\n",
       "      <td>W22315</td>\n",
       "      <td>1598135.0</td>\n",
       "      <td>10/1/2016 0:31</td>\n",
       "      <td>17th St &amp; Independence Ave SW</td>\n",
       "      <td>31290.0</td>\n",
       "      <td>Casual</td>\n",
       "      <td>NaN</td>\n",
       "      <td>10/1/2016 0:04</td>\n",
       "      <td>Jefferson Memorial</td>\n",
       "      <td>31249.0</td>\n",
       "      <td>NaN</td>\n",
       "      <td>NaN</td>\n",
       "      <td>NaN</td>\n",
       "    </tr>\n",
       "    <tr>\n",
       "      <th>771052</th>\n",
       "      <td>NaN</td>\n",
       "      <td>NaN</td>\n",
       "      <td>W20293</td>\n",
       "      <td>1086779.0</td>\n",
       "      <td>10/1/2016 0:22</td>\n",
       "      <td>15th &amp; F St NE</td>\n",
       "      <td>31632.0</td>\n",
       "      <td>Registered</td>\n",
       "      <td>NaN</td>\n",
       "      <td>10/1/2016 0:04</td>\n",
       "      <td>1st &amp; N St  SE</td>\n",
       "      <td>31209.0</td>\n",
       "      <td>NaN</td>\n",
       "      <td>NaN</td>\n",
       "      <td>NaN</td>\n",
       "    </tr>\n",
       "    <tr>\n",
       "      <th>771053</th>\n",
       "      <td>NaN</td>\n",
       "      <td>NaN</td>\n",
       "      <td>W22212</td>\n",
       "      <td>37509167.0</td>\n",
       "      <td>10/1/2016 10:28</td>\n",
       "      <td>Washington &amp; Independence Ave SW/HHS</td>\n",
       "      <td>31272.0</td>\n",
       "      <td>Registered</td>\n",
       "      <td>NaN</td>\n",
       "      <td>10/1/2016 0:03</td>\n",
       "      <td>1st &amp; N St  SE</td>\n",
       "      <td>31209.0</td>\n",
       "      <td>NaN</td>\n",
       "      <td>NaN</td>\n",
       "      <td>NaN</td>\n",
       "    </tr>\n",
       "    <tr>\n",
       "      <th>771054</th>\n",
       "      <td>NaN</td>\n",
       "      <td>NaN</td>\n",
       "      <td>W01003</td>\n",
       "      <td>41975875.0</td>\n",
       "      <td>10/1/2016 11:42</td>\n",
       "      <td>New York Ave &amp; 15th St NW</td>\n",
       "      <td>31222.0</td>\n",
       "      <td>Casual</td>\n",
       "      <td>NaN</td>\n",
       "      <td>10/1/2016 0:03</td>\n",
       "      <td>Jefferson Memorial</td>\n",
       "      <td>31249.0</td>\n",
       "      <td>NaN</td>\n",
       "      <td>NaN</td>\n",
       "      <td>NaN</td>\n",
       "    </tr>\n",
       "    <tr>\n",
       "      <th>771055</th>\n",
       "      <td>NaN</td>\n",
       "      <td>NaN</td>\n",
       "      <td>W20930</td>\n",
       "      <td>1102649.0</td>\n",
       "      <td>10/1/2016 0:21</td>\n",
       "      <td>New York Ave &amp; 15th St NW</td>\n",
       "      <td>31222.0</td>\n",
       "      <td>Casual</td>\n",
       "      <td>NaN</td>\n",
       "      <td>10/1/2016 0:03</td>\n",
       "      <td>Jefferson Memorial</td>\n",
       "      <td>31249.0</td>\n",
       "      <td>NaN</td>\n",
       "      <td>NaN</td>\n",
       "      <td>NaN</td>\n",
       "    </tr>\n",
       "    <tr>\n",
       "      <th>771056</th>\n",
       "      <td>NaN</td>\n",
       "      <td>NaN</td>\n",
       "      <td>W20954</td>\n",
       "      <td>1763270.0</td>\n",
       "      <td>10/1/2016 0:32</td>\n",
       "      <td>New York Ave &amp; 15th St NW</td>\n",
       "      <td>31222.0</td>\n",
       "      <td>Casual</td>\n",
       "      <td>NaN</td>\n",
       "      <td>10/1/2016 0:03</td>\n",
       "      <td>Henry Bacon Dr &amp; Lincoln Memorial Circle NW</td>\n",
       "      <td>31289.0</td>\n",
       "      <td>NaN</td>\n",
       "      <td>NaN</td>\n",
       "      <td>NaN</td>\n",
       "    </tr>\n",
       "    <tr>\n",
       "      <th>771057</th>\n",
       "      <td>NaN</td>\n",
       "      <td>NaN</td>\n",
       "      <td>W00837</td>\n",
       "      <td>126881.0</td>\n",
       "      <td>10/1/2016 0:05</td>\n",
       "      <td>Convention Center / 7th &amp; M St NW</td>\n",
       "      <td>31223.0</td>\n",
       "      <td>Casual</td>\n",
       "      <td>NaN</td>\n",
       "      <td>10/1/2016 0:03</td>\n",
       "      <td>8th &amp; O St NW</td>\n",
       "      <td>31281.0</td>\n",
       "      <td>NaN</td>\n",
       "      <td>NaN</td>\n",
       "      <td>NaN</td>\n",
       "    </tr>\n",
       "    <tr>\n",
       "      <th>771058</th>\n",
       "      <td>NaN</td>\n",
       "      <td>NaN</td>\n",
       "      <td>W21188</td>\n",
       "      <td>126068.0</td>\n",
       "      <td>10/1/2016 0:05</td>\n",
       "      <td>Convention Center / 7th &amp; M St NW</td>\n",
       "      <td>31223.0</td>\n",
       "      <td>Casual</td>\n",
       "      <td>NaN</td>\n",
       "      <td>10/1/2016 0:03</td>\n",
       "      <td>8th &amp; O St NW</td>\n",
       "      <td>31281.0</td>\n",
       "      <td>NaN</td>\n",
       "      <td>NaN</td>\n",
       "      <td>NaN</td>\n",
       "    </tr>\n",
       "    <tr>\n",
       "      <th>771059</th>\n",
       "      <td>NaN</td>\n",
       "      <td>NaN</td>\n",
       "      <td>W20523</td>\n",
       "      <td>640165.0</td>\n",
       "      <td>10/1/2016 0:14</td>\n",
       "      <td>2nd St &amp; Massachusetts Ave NE</td>\n",
       "      <td>31641.0</td>\n",
       "      <td>Registered</td>\n",
       "      <td>NaN</td>\n",
       "      <td>10/1/2016 0:03</td>\n",
       "      <td>1st &amp; N St  SE</td>\n",
       "      <td>31209.0</td>\n",
       "      <td>NaN</td>\n",
       "      <td>NaN</td>\n",
       "      <td>NaN</td>\n",
       "    </tr>\n",
       "    <tr>\n",
       "      <th>771060</th>\n",
       "      <td>NaN</td>\n",
       "      <td>NaN</td>\n",
       "      <td>W21871</td>\n",
       "      <td>1186576.0</td>\n",
       "      <td>10/1/2016 0:22</td>\n",
       "      <td>Adams Mill &amp; Columbia Rd NW</td>\n",
       "      <td>31104.0</td>\n",
       "      <td>Casual</td>\n",
       "      <td>NaN</td>\n",
       "      <td>10/1/2016 0:02</td>\n",
       "      <td>14th &amp; Belmont St NW</td>\n",
       "      <td>31119.0</td>\n",
       "      <td>NaN</td>\n",
       "      <td>NaN</td>\n",
       "      <td>NaN</td>\n",
       "    </tr>\n",
       "    <tr>\n",
       "      <th>771061</th>\n",
       "      <td>NaN</td>\n",
       "      <td>NaN</td>\n",
       "      <td>W22861</td>\n",
       "      <td>964464.0</td>\n",
       "      <td>10/1/2016 0:18</td>\n",
       "      <td>1st &amp; Rhode Island Ave NW</td>\n",
       "      <td>31506.0</td>\n",
       "      <td>Casual</td>\n",
       "      <td>NaN</td>\n",
       "      <td>10/1/2016 0:02</td>\n",
       "      <td>15th &amp; P St NW</td>\n",
       "      <td>31201.0</td>\n",
       "      <td>NaN</td>\n",
       "      <td>NaN</td>\n",
       "      <td>NaN</td>\n",
       "    </tr>\n",
       "    <tr>\n",
       "      <th>771062</th>\n",
       "      <td>NaN</td>\n",
       "      <td>NaN</td>\n",
       "      <td>W01333</td>\n",
       "      <td>743235.0</td>\n",
       "      <td>10/1/2016 0:14</td>\n",
       "      <td>11th &amp; O St NW</td>\n",
       "      <td>31286.0</td>\n",
       "      <td>Registered</td>\n",
       "      <td>NaN</td>\n",
       "      <td>10/1/2016 0:02</td>\n",
       "      <td>North Capitol St &amp; F St NW</td>\n",
       "      <td>31624.0</td>\n",
       "      <td>NaN</td>\n",
       "      <td>NaN</td>\n",
       "      <td>NaN</td>\n",
       "    </tr>\n",
       "    <tr>\n",
       "      <th>771063</th>\n",
       "      <td>NaN</td>\n",
       "      <td>NaN</td>\n",
       "      <td>W22702</td>\n",
       "      <td>390417.0</td>\n",
       "      <td>10/1/2016 0:07</td>\n",
       "      <td>13th &amp; H St NE</td>\n",
       "      <td>31611.0</td>\n",
       "      <td>Registered</td>\n",
       "      <td>NaN</td>\n",
       "      <td>10/1/2016 0:01</td>\n",
       "      <td>D St &amp; Maryland Ave NE</td>\n",
       "      <td>31612.0</td>\n",
       "      <td>NaN</td>\n",
       "      <td>NaN</td>\n",
       "      <td>NaN</td>\n",
       "    </tr>\n",
       "    <tr>\n",
       "      <th>771064</th>\n",
       "      <td>NaN</td>\n",
       "      <td>NaN</td>\n",
       "      <td>W00131</td>\n",
       "      <td>993889.0</td>\n",
       "      <td>10/1/2016 0:17</td>\n",
       "      <td>Ohio Dr &amp; West Basin Dr SW / MLK &amp; FDR Memorials</td>\n",
       "      <td>31240.0</td>\n",
       "      <td>Registered</td>\n",
       "      <td>NaN</td>\n",
       "      <td>10/1/2016 0:00</td>\n",
       "      <td>M St &amp; Pennsylvania Ave NW</td>\n",
       "      <td>31246.0</td>\n",
       "      <td>NaN</td>\n",
       "      <td>NaN</td>\n",
       "      <td>NaN</td>\n",
       "    </tr>\n",
       "    <tr>\n",
       "      <th>771065</th>\n",
       "      <td>NaN</td>\n",
       "      <td>NaN</td>\n",
       "      <td>W22460</td>\n",
       "      <td>653535.0</td>\n",
       "      <td>10/1/2016 0:11</td>\n",
       "      <td>Lynn &amp; 19th St North</td>\n",
       "      <td>31014.0</td>\n",
       "      <td>Registered</td>\n",
       "      <td>NaN</td>\n",
       "      <td>10/1/2016 0:00</td>\n",
       "      <td>M St &amp; Pennsylvania Ave NW</td>\n",
       "      <td>31246.0</td>\n",
       "      <td>NaN</td>\n",
       "      <td>NaN</td>\n",
       "      <td>NaN</td>\n",
       "    </tr>\n",
       "    <tr>\n",
       "      <th>771066</th>\n",
       "      <td>NaN</td>\n",
       "      <td>NaN</td>\n",
       "      <td>W21072</td>\n",
       "      <td>378324.0</td>\n",
       "      <td>10/1/2016 0:06</td>\n",
       "      <td>5th St &amp; Massachusetts Ave NW</td>\n",
       "      <td>31265.0</td>\n",
       "      <td>Registered</td>\n",
       "      <td>NaN</td>\n",
       "      <td>10/1/2016 0:00</td>\n",
       "      <td>10th &amp; E St NW</td>\n",
       "      <td>31256.0</td>\n",
       "      <td>NaN</td>\n",
       "      <td>NaN</td>\n",
       "      <td>NaN</td>\n",
       "    </tr>\n",
       "    <tr>\n",
       "      <th>771067</th>\n",
       "      <td>NaN</td>\n",
       "      <td>NaN</td>\n",
       "      <td>W00091</td>\n",
       "      <td>426271.0</td>\n",
       "      <td>10/1/2016 0:07</td>\n",
       "      <td>11th &amp; S St NW</td>\n",
       "      <td>31280.0</td>\n",
       "      <td>Casual</td>\n",
       "      <td>NaN</td>\n",
       "      <td>10/1/2016 0:00</td>\n",
       "      <td>11th &amp; Kenyon St NW</td>\n",
       "      <td>31102.0</td>\n",
       "      <td>NaN</td>\n",
       "      <td>NaN</td>\n",
       "      <td>NaN</td>\n",
       "    </tr>\n",
       "  </tbody>\n",
       "</table>\n",
       "<p>6526694 rows × 15 columns</p>\n",
       "</div>"
      ],
      "text/plain": [
       "       Account type Bike # Bike number  Duration (ms)         End date  \\\n",
       "0               NaN    NaN      W00612            NaN    1/1/2015 0:42   \n",
       "1               NaN    NaN      W01140            NaN    1/1/2015 0:42   \n",
       "2               NaN    NaN      W01226            NaN    1/1/2015 0:12   \n",
       "3               NaN    NaN      W20216            NaN    1/1/2015 0:13   \n",
       "4               NaN    NaN      W21005            NaN    1/1/2015 0:25   \n",
       "5               NaN    NaN      W01126            NaN    1/1/2015 0:26   \n",
       "6               NaN    NaN      W20464            NaN    1/1/2015 0:18   \n",
       "7               NaN    NaN      W20416            NaN    1/1/2015 0:18   \n",
       "8               NaN    NaN      W21343            NaN    1/1/2015 1:01   \n",
       "9               NaN    NaN      W21178            NaN    1/1/2015 0:21   \n",
       "10              NaN    NaN      W01241            NaN    1/1/2015 0:28   \n",
       "11              NaN    NaN      W00976            NaN    1/1/2015 0:30   \n",
       "12              NaN    NaN      W00494            NaN    1/1/2015 0:30   \n",
       "13              NaN    NaN      W01087            NaN    1/1/2015 0:29   \n",
       "14              NaN    NaN      W00075            NaN    1/1/2015 0:28   \n",
       "15              NaN    NaN      W00715            NaN    1/1/2015 0:22   \n",
       "16              NaN    NaN      W01244            NaN    1/1/2015 0:41   \n",
       "17              NaN    NaN      W21894            NaN    1/1/2015 0:33   \n",
       "18              NaN    NaN      W01222            NaN    1/1/2015 0:29   \n",
       "19              NaN    NaN      W21548            NaN    1/1/2015 1:00   \n",
       "20              NaN    NaN      W00392            NaN    1/1/2015 0:41   \n",
       "21              NaN    NaN      W00219            NaN    1/1/2015 0:42   \n",
       "22              NaN    NaN      W00258            NaN    1/1/2015 0:39   \n",
       "23              NaN    NaN      W00521            NaN    1/1/2015 0:37   \n",
       "24              NaN    NaN      W21251            NaN    1/1/2015 0:38   \n",
       "25              NaN    NaN      W20945            NaN    1/1/2015 0:50   \n",
       "26              NaN    NaN      W20894            NaN    1/1/2015 0:36   \n",
       "27              NaN    NaN      W21250            NaN    1/1/2015 0:36   \n",
       "28              NaN    NaN      W21962            NaN    1/1/2015 0:35   \n",
       "29              NaN    NaN      W21374            NaN    1/1/2015 0:48   \n",
       "...             ...    ...         ...            ...              ...   \n",
       "771038          NaN    NaN      W22455      1619299.0   10/1/2016 0:32   \n",
       "771039          NaN    NaN      W21731       783534.0   10/1/2016 0:19   \n",
       "771040          NaN    NaN      W20482       224111.0   10/1/2016 0:10   \n",
       "771041          NaN    NaN      W21247      1641925.0   10/1/2016 0:33   \n",
       "771042          NaN    NaN      W22554      1045515.0   10/1/2016 0:22   \n",
       "771043          NaN    NaN      W23163      1717933.0   10/1/2016 0:33   \n",
       "771044          NaN    NaN      W00034       623896.0   10/1/2016 0:14   \n",
       "771045          NaN    NaN      W01265       609119.0   10/1/2016 0:14   \n",
       "771046          NaN    NaN      W20219       594961.0   10/1/2016 0:14   \n",
       "771047          NaN    NaN      W22373       287073.0   10/1/2016 0:09   \n",
       "771048          NaN    NaN      W22759      1343301.0   10/1/2016 0:26   \n",
       "771049          NaN    NaN      W22718      1340116.0   10/1/2016 0:26   \n",
       "771050          NaN    NaN      W22671      1613312.0   10/1/2016 0:31   \n",
       "771051          NaN    NaN      W22315      1598135.0   10/1/2016 0:31   \n",
       "771052          NaN    NaN      W20293      1086779.0   10/1/2016 0:22   \n",
       "771053          NaN    NaN      W22212     37509167.0  10/1/2016 10:28   \n",
       "771054          NaN    NaN      W01003     41975875.0  10/1/2016 11:42   \n",
       "771055          NaN    NaN      W20930      1102649.0   10/1/2016 0:21   \n",
       "771056          NaN    NaN      W20954      1763270.0   10/1/2016 0:32   \n",
       "771057          NaN    NaN      W00837       126881.0   10/1/2016 0:05   \n",
       "771058          NaN    NaN      W21188       126068.0   10/1/2016 0:05   \n",
       "771059          NaN    NaN      W20523       640165.0   10/1/2016 0:14   \n",
       "771060          NaN    NaN      W21871      1186576.0   10/1/2016 0:22   \n",
       "771061          NaN    NaN      W22861       964464.0   10/1/2016 0:18   \n",
       "771062          NaN    NaN      W01333       743235.0   10/1/2016 0:14   \n",
       "771063          NaN    NaN      W22702       390417.0   10/1/2016 0:07   \n",
       "771064          NaN    NaN      W00131       993889.0   10/1/2016 0:17   \n",
       "771065          NaN    NaN      W22460       653535.0   10/1/2016 0:11   \n",
       "771066          NaN    NaN      W21072       378324.0   10/1/2016 0:06   \n",
       "771067          NaN    NaN      W00091       426271.0   10/1/2016 0:07   \n",
       "\n",
       "                                             End station  End station number  \\\n",
       "0                                         15th & K St NW                 NaN   \n",
       "1                                         15th & K St NW                 NaN   \n",
       "2                          20th & O St NW / Dupont South                 NaN   \n",
       "3                                   15th & Euclid St  NW                 NaN   \n",
       "4                                          Thomas Circle                 NaN   \n",
       "5                                          Thomas Circle                 NaN   \n",
       "6                                         14th & R St NW                 NaN   \n",
       "7          Clarendon Metro / Wilson Blvd & N Highland St                 NaN   \n",
       "8                14th & D St NW / Ronald Reagan Building                 NaN   \n",
       "9                                          Thomas Circle                 NaN   \n",
       "10                               Lamont & Mt Pleasant NW                 NaN   \n",
       "11                                         King St Metro                 NaN   \n",
       "12                                         King St Metro                 NaN   \n",
       "13                             1st & Rhode Island Ave NW                 NaN   \n",
       "14                               Lamont & Mt Pleasant NW                 NaN   \n",
       "15                                        11th & M St NW                 NaN   \n",
       "16                                  Lynn & 19th St North                 NaN   \n",
       "17                          7th & R St NW / Shaw Library                 NaN   \n",
       "18                                        11th & M St NW                 NaN   \n",
       "19               14th & D St NW / Ronald Reagan Building                 NaN   \n",
       "20                                    34th & Water St NW                 NaN   \n",
       "21                        California St & Florida Ave NW                 NaN   \n",
       "22                           Adams Mill & Columbia Rd NW                 NaN   \n",
       "23                                        14th & V St NW                 NaN   \n",
       "24                           Adams Mill & Columbia Rd NW                 NaN   \n",
       "25                                        20th & E St NW                 NaN   \n",
       "26                        15th St & Massachusetts Ave SE                 NaN   \n",
       "27                        15th St & Massachusetts Ave SE                 NaN   \n",
       "28          US Dept of State / Virginia Ave & 21st St NW                 NaN   \n",
       "29                  Massachusetts Ave & Dupont Circle NW                 NaN   \n",
       "...                                                  ...                 ...   \n",
       "771038                         New York Ave & 15th St NW             31222.0   \n",
       "771039                                    18th & M St NW             31221.0   \n",
       "771040                         14th St & Colorado Ave NW             31407.0   \n",
       "771041                         New York Ave & 15th St NW             31222.0   \n",
       "771042                    15th St & Massachusetts Ave SE             31626.0   \n",
       "771043                         New York Ave & 15th St NW             31222.0   \n",
       "771044                                     4th & E St SW             31244.0   \n",
       "771045                                     4th & E St SW             31244.0   \n",
       "771046                      3rd St & Pennsylvania Ave SE             31269.0   \n",
       "771047                                     3rd & G St SE             31625.0   \n",
       "771048                          18th St & Wyoming Ave NW             31114.0   \n",
       "771049                          18th St & Wyoming Ave NW             31114.0   \n",
       "771050                     17th St & Independence Ave SW             31290.0   \n",
       "771051                     17th St & Independence Ave SW             31290.0   \n",
       "771052                                    15th & F St NE             31632.0   \n",
       "771053              Washington & Independence Ave SW/HHS             31272.0   \n",
       "771054                         New York Ave & 15th St NW             31222.0   \n",
       "771055                         New York Ave & 15th St NW             31222.0   \n",
       "771056                         New York Ave & 15th St NW             31222.0   \n",
       "771057                 Convention Center / 7th & M St NW             31223.0   \n",
       "771058                 Convention Center / 7th & M St NW             31223.0   \n",
       "771059                     2nd St & Massachusetts Ave NE             31641.0   \n",
       "771060                       Adams Mill & Columbia Rd NW             31104.0   \n",
       "771061                         1st & Rhode Island Ave NW             31506.0   \n",
       "771062                                    11th & O St NW             31286.0   \n",
       "771063                                    13th & H St NE             31611.0   \n",
       "771064  Ohio Dr & West Basin Dr SW / MLK & FDR Memorials             31240.0   \n",
       "771065                              Lynn & 19th St North             31014.0   \n",
       "771066                     5th St & Massachusetts Ave NW             31265.0   \n",
       "771067                                    11th & S St NW             31280.0   \n",
       "\n",
       "       Member Type Member type      Start date  \\\n",
       "0              NaN         NaN   1/1/2015 0:02   \n",
       "1              NaN         NaN   1/1/2015 0:02   \n",
       "2              NaN         NaN   1/1/2015 0:04   \n",
       "3              NaN         NaN   1/1/2015 0:07   \n",
       "4              NaN         NaN   1/1/2015 0:09   \n",
       "5              NaN         NaN   1/1/2015 0:10   \n",
       "6              NaN         NaN   1/1/2015 0:12   \n",
       "7              NaN         NaN   1/1/2015 0:13   \n",
       "8              NaN         NaN   1/1/2015 0:17   \n",
       "9              NaN         NaN   1/1/2015 0:16   \n",
       "10             NaN         NaN   1/1/2015 0:18   \n",
       "11             NaN         NaN   1/1/2015 0:19   \n",
       "12             NaN         NaN   1/1/2015 0:20   \n",
       "13             NaN         NaN   1/1/2015 0:20   \n",
       "14             NaN         NaN   1/1/2015 0:20   \n",
       "15             NaN         NaN   1/1/2015 0:20   \n",
       "16             NaN         NaN   1/1/2015 0:21   \n",
       "17             NaN         NaN   1/1/2015 0:23   \n",
       "18             NaN         NaN   1/1/2015 0:23   \n",
       "19             NaN         NaN   1/1/2015 0:25   \n",
       "20             NaN         NaN   1/1/2015 0:25   \n",
       "21             NaN         NaN   1/1/2015 0:28   \n",
       "22             NaN         NaN   1/1/2015 0:28   \n",
       "23             NaN         NaN   1/1/2015 0:28   \n",
       "24             NaN         NaN   1/1/2015 0:29   \n",
       "25             NaN         NaN   1/1/2015 0:29   \n",
       "26             NaN         NaN   1/1/2015 0:31   \n",
       "27             NaN         NaN   1/1/2015 0:31   \n",
       "28             NaN         NaN   1/1/2015 0:33   \n",
       "29             NaN         NaN   1/1/2015 0:32   \n",
       "...            ...         ...             ...   \n",
       "771038      Casual         NaN  10/1/2016 0:06   \n",
       "771039  Registered         NaN  10/1/2016 0:06   \n",
       "771040  Registered         NaN  10/1/2016 0:06   \n",
       "771041      Casual         NaN  10/1/2016 0:05   \n",
       "771042  Registered         NaN  10/1/2016 0:05   \n",
       "771043      Casual         NaN  10/1/2016 0:04   \n",
       "771044      Casual         NaN  10/1/2016 0:04   \n",
       "771045      Casual         NaN  10/1/2016 0:04   \n",
       "771046  Registered         NaN  10/1/2016 0:04   \n",
       "771047  Registered         NaN  10/1/2016 0:04   \n",
       "771048      Casual         NaN  10/1/2016 0:04   \n",
       "771049      Casual         NaN  10/1/2016 0:04   \n",
       "771050      Casual         NaN  10/1/2016 0:04   \n",
       "771051      Casual         NaN  10/1/2016 0:04   \n",
       "771052  Registered         NaN  10/1/2016 0:04   \n",
       "771053  Registered         NaN  10/1/2016 0:03   \n",
       "771054      Casual         NaN  10/1/2016 0:03   \n",
       "771055      Casual         NaN  10/1/2016 0:03   \n",
       "771056      Casual         NaN  10/1/2016 0:03   \n",
       "771057      Casual         NaN  10/1/2016 0:03   \n",
       "771058      Casual         NaN  10/1/2016 0:03   \n",
       "771059  Registered         NaN  10/1/2016 0:03   \n",
       "771060      Casual         NaN  10/1/2016 0:02   \n",
       "771061      Casual         NaN  10/1/2016 0:02   \n",
       "771062  Registered         NaN  10/1/2016 0:02   \n",
       "771063  Registered         NaN  10/1/2016 0:01   \n",
       "771064  Registered         NaN  10/1/2016 0:00   \n",
       "771065  Registered         NaN  10/1/2016 0:00   \n",
       "771066  Registered         NaN  10/1/2016 0:00   \n",
       "771067      Casual         NaN  10/1/2016 0:00   \n",
       "\n",
       "                                       Start station  Start station number  \\\n",
       "0                   Constitution Ave & 2nd St NW/DOL                   NaN   \n",
       "1                   Constitution Ave & 2nd St NW/DOL                   NaN   \n",
       "2                                     20th & E St NW                   NaN   \n",
       "3                            Park Rd & Holmead Pl NW                   NaN   \n",
       "4                          Jefferson Dr & 14th St SW                   NaN   \n",
       "5                          Jefferson Dr & 14th St SW                   NaN   \n",
       "6                          New York Ave & 15th St NW                   NaN   \n",
       "7                            Wilson Blvd & N Uhle St                   NaN   \n",
       "8                                 Jefferson Memorial                   NaN   \n",
       "9                              17th & Corcoran St NW                   NaN   \n",
       "10                       Adams Mill & Columbia Rd NW                   NaN   \n",
       "11                Market Square / King St & Royal St                   NaN   \n",
       "12                Market Square / King St & Royal St                   NaN   \n",
       "13                      Columbia Rd & Georgia Ave NW                   NaN   \n",
       "14                       Adams Mill & Columbia Rd NW                   NaN   \n",
       "15                                     Thomas Circle                   NaN   \n",
       "16                                Jefferson Memorial                   NaN   \n",
       "17                          18th St & Wyoming Ave NW                   NaN   \n",
       "18                                    15th & P St NW                   NaN   \n",
       "19                                Jefferson Memorial                   NaN   \n",
       "20                                    14th & R St NW                   NaN   \n",
       "21                         1st & Rhode Island Ave NW                   NaN   \n",
       "22                        Calvert St & Woodley Pl NW                   NaN   \n",
       "23                     20th & O St NW / Dupont South                   NaN   \n",
       "24                        Calvert St & Woodley Pl NW                   NaN   \n",
       "25                                     4th & M St SW                   NaN   \n",
       "26      Eastern Market / 7th & North Carolina Ave SE                   NaN   \n",
       "27      Eastern Market / 7th & North Carolina Ave SE                   NaN   \n",
       "28                     21st St & Constitution Ave NW                   NaN   \n",
       "29                              Van Ness Metro / UDC                   NaN   \n",
       "...                                              ...                   ...   \n",
       "771038   Henry Bacon Dr & Lincoln Memorial Circle NW               31289.0   \n",
       "771039                                15th & P St NW               31201.0   \n",
       "771040                     Georgia & Missouri Ave NW               31411.0   \n",
       "771041   Henry Bacon Dr & Lincoln Memorial Circle NW               31289.0   \n",
       "771042                                1st & N St  SE               31209.0   \n",
       "771043   Henry Bacon Dr & Lincoln Memorial Circle NW               31289.0   \n",
       "771044                                1st & N St  SE               31209.0   \n",
       "771045                                1st & N St  SE               31209.0   \n",
       "771046                                1st & N St  SE               31209.0   \n",
       "771047                      M St & New Jersey Ave SE               31208.0   \n",
       "771048                          14th & Belmont St NW               31119.0   \n",
       "771049                          14th & Belmont St NW               31119.0   \n",
       "771050                            Jefferson Memorial               31249.0   \n",
       "771051                            Jefferson Memorial               31249.0   \n",
       "771052                                1st & N St  SE               31209.0   \n",
       "771053                                1st & N St  SE               31209.0   \n",
       "771054                            Jefferson Memorial               31249.0   \n",
       "771055                            Jefferson Memorial               31249.0   \n",
       "771056   Henry Bacon Dr & Lincoln Memorial Circle NW               31289.0   \n",
       "771057                                 8th & O St NW               31281.0   \n",
       "771058                                 8th & O St NW               31281.0   \n",
       "771059                                1st & N St  SE               31209.0   \n",
       "771060                          14th & Belmont St NW               31119.0   \n",
       "771061                                15th & P St NW               31201.0   \n",
       "771062                    North Capitol St & F St NW               31624.0   \n",
       "771063                        D St & Maryland Ave NE               31612.0   \n",
       "771064                    M St & Pennsylvania Ave NW               31246.0   \n",
       "771065                    M St & Pennsylvania Ave NW               31246.0   \n",
       "771066                                10th & E St NW               31256.0   \n",
       "771067                           11th & Kenyon St NW               31102.0   \n",
       "\n",
       "       Subscription Type Subscription type  Total duration (ms)  \n",
       "0                 Casual               NaN            2394764.0  \n",
       "1                 Casual               NaN            2389161.0  \n",
       "2             Registered               NaN             468047.0  \n",
       "3             Registered               NaN             348068.0  \n",
       "4                 Casual               NaN             980844.0  \n",
       "5                 Casual               NaN             932411.0  \n",
       "6             Registered               NaN             387061.0  \n",
       "7             Registered               NaN             321333.0  \n",
       "8                 Casual               NaN            2646785.0  \n",
       "9             Registered               NaN             294645.0  \n",
       "10                Casual               NaN             607267.0  \n",
       "11                Casual               NaN             670671.0  \n",
       "12                Casual               NaN             631332.0  \n",
       "13            Registered               NaN             544248.0  \n",
       "14            Registered               NaN             484599.0  \n",
       "15            Registered               NaN             116189.0  \n",
       "16            Registered               NaN            1153457.0  \n",
       "17            Registered               NaN             611941.0  \n",
       "18            Registered               NaN             359778.0  \n",
       "19                Casual               NaN            2104479.0  \n",
       "20            Registered               NaN             928014.0  \n",
       "21            Registered               NaN             829491.0  \n",
       "22            Registered               NaN             619085.0  \n",
       "23            Registered               NaN             513312.0  \n",
       "24            Registered               NaN             587230.0  \n",
       "25            Registered               NaN            1258411.0  \n",
       "26            Registered               NaN             325901.0  \n",
       "27            Registered               NaN             317482.0  \n",
       "28                Casual               NaN             122895.0  \n",
       "29            Registered               NaN             959800.0  \n",
       "...                  ...               ...                  ...  \n",
       "771038               NaN               NaN                  NaN  \n",
       "771039               NaN               NaN                  NaN  \n",
       "771040               NaN               NaN                  NaN  \n",
       "771041               NaN               NaN                  NaN  \n",
       "771042               NaN               NaN                  NaN  \n",
       "771043               NaN               NaN                  NaN  \n",
       "771044               NaN               NaN                  NaN  \n",
       "771045               NaN               NaN                  NaN  \n",
       "771046               NaN               NaN                  NaN  \n",
       "771047               NaN               NaN                  NaN  \n",
       "771048               NaN               NaN                  NaN  \n",
       "771049               NaN               NaN                  NaN  \n",
       "771050               NaN               NaN                  NaN  \n",
       "771051               NaN               NaN                  NaN  \n",
       "771052               NaN               NaN                  NaN  \n",
       "771053               NaN               NaN                  NaN  \n",
       "771054               NaN               NaN                  NaN  \n",
       "771055               NaN               NaN                  NaN  \n",
       "771056               NaN               NaN                  NaN  \n",
       "771057               NaN               NaN                  NaN  \n",
       "771058               NaN               NaN                  NaN  \n",
       "771059               NaN               NaN                  NaN  \n",
       "771060               NaN               NaN                  NaN  \n",
       "771061               NaN               NaN                  NaN  \n",
       "771062               NaN               NaN                  NaN  \n",
       "771063               NaN               NaN                  NaN  \n",
       "771064               NaN               NaN                  NaN  \n",
       "771065               NaN               NaN                  NaN  \n",
       "771066               NaN               NaN                  NaN  \n",
       "771067               NaN               NaN                  NaN  \n",
       "\n",
       "[6526694 rows x 15 columns]"
      ]
     },
     "execution_count": 8,
     "metadata": {},
     "output_type": "execute_result"
    }
   ],
   "source": [
    "df"
   ]
  },
  {
   "cell_type": "code",
   "execution_count": 9,
   "metadata": {
    "collapsed": true
   },
   "outputs": [],
   "source": [
    "df_m = df.as_matrix(columns = [\"Start date\", \"End date\",\"Start station\", \"End station\"])"
   ]
  },
  {
   "cell_type": "code",
   "execution_count": 10,
   "metadata": {},
   "outputs": [
    {
     "data": {
      "text/plain": [
       "array([['1/1/2015 0:02', '1/1/2015 0:42',\n",
       "        'Constitution Ave & 2nd St NW/DOL', '15th & K St NW'],\n",
       "       ['1/1/2015 0:02', '1/1/2015 0:42',\n",
       "        'Constitution Ave & 2nd St NW/DOL', '15th & K St NW'],\n",
       "       ['1/1/2015 0:04', '1/1/2015 0:12', '20th & E St NW',\n",
       "        '20th & O St NW / Dupont South'],\n",
       "       ..., \n",
       "       ['10/1/2016 0:00', '10/1/2016 0:11', 'M St & Pennsylvania Ave NW',\n",
       "        'Lynn & 19th St North'],\n",
       "       ['10/1/2016 0:00', '10/1/2016 0:06', '10th & E St NW',\n",
       "        '5th St & Massachusetts Ave NW'],\n",
       "       ['10/1/2016 0:00', '10/1/2016 0:07', '11th & Kenyon St NW',\n",
       "        '11th & S St NW']], dtype=object)"
      ]
     },
     "execution_count": 10,
     "metadata": {},
     "output_type": "execute_result"
    }
   ],
   "source": [
    "df_m"
   ]
  },
  {
   "cell_type": "code",
   "execution_count": 11,
   "metadata": {
    "collapsed": true
   },
   "outputs": [],
   "source": [
    "import datetime"
   ]
  },
  {
   "cell_type": "code",
   "execution_count": 12,
   "metadata": {
    "collapsed": true
   },
   "outputs": [],
   "source": [
    "for i in xrange(df_m.shape[0]):\n",
    "    df_m[i][0] = datetime.datetime.strptime(df_m[i][0], '%m/%d/%Y %H:%M')\n",
    "    df_m[i][1] = datetime.datetime.strptime(df_m[i][1], '%m/%d/%Y %H:%M')\n",
    "    "
   ]
  },
  {
   "cell_type": "code",
   "execution_count": 13,
   "metadata": {
    "collapsed": true
   },
   "outputs": [],
   "source": [
    "base = datetime.datetime.strptime(\"12/20/2014\", '%m/%d/%Y')\n",
    "date_list1 = [base + datetime.timedelta(hours = x) for x in range(0,380*2*24, 6)]"
   ]
  },
  {
   "cell_type": "code",
   "execution_count": 14,
   "metadata": {
    "collapsed": true
   },
   "outputs": [],
   "source": [
    "number_of_stations = len(list(set(df_m[:,2])))"
   ]
  },
  {
   "cell_type": "code",
   "execution_count": 15,
   "metadata": {
    "collapsed": true
   },
   "outputs": [],
   "source": [
    "stations =list(set(df_m[:,2]))"
   ]
  },
  {
   "cell_type": "code",
   "execution_count": 16,
   "metadata": {},
   "outputs": [
    {
     "data": {
      "text/plain": [
       "3040"
      ]
     },
     "execution_count": 16,
     "metadata": {},
     "output_type": "execute_result"
    }
   ],
   "source": [
    "len(date_list1)"
   ]
  },
  {
   "cell_type": "code",
   "execution_count": 17,
   "metadata": {},
   "outputs": [
    {
     "data": {
      "text/plain": [
       "450"
      ]
     },
     "execution_count": 17,
     "metadata": {},
     "output_type": "execute_result"
    }
   ],
   "source": [
    "number_of_stations"
   ]
  },
  {
   "cell_type": "code",
   "execution_count": 18,
   "metadata": {
    "collapsed": true
   },
   "outputs": [],
   "source": [
    "date_list = []\n",
    "for i in (date_list1):\n",
    "    for j in range(number_of_stations):\n",
    "        date_list.append(i)"
   ]
  },
  {
   "cell_type": "code",
   "execution_count": 19,
   "metadata": {
    "collapsed": true
   },
   "outputs": [],
   "source": [
    "stations = stations *len(date_list1)"
   ]
  },
  {
   "cell_type": "code",
   "execution_count": 20,
   "metadata": {
    "collapsed": true
   },
   "outputs": [],
   "source": [
    "input_arr = [0 for i in xrange(number_of_stations*len(date_list1))]"
   ]
  },
  {
   "cell_type": "code",
   "execution_count": 21,
   "metadata": {
    "collapsed": true
   },
   "outputs": [],
   "source": [
    "output_arr = [0 for i in xrange(number_of_stations*len(date_list1))]"
   ]
  },
  {
   "cell_type": "code",
   "execution_count": 22,
   "metadata": {},
   "outputs": [
    {
     "name": "stdout",
     "output_type": "stream",
     "text": [
      "(1368000, 1368000, 1368000, 1368000)\n"
     ]
    }
   ],
   "source": [
    "print (len(input_arr), len(output_arr), len (stations), len(date_list))"
   ]
  },
  {
   "cell_type": "code",
   "execution_count": 23,
   "metadata": {
    "collapsed": true
   },
   "outputs": [],
   "source": [
    "input_arr = np.array(input_arr)"
   ]
  },
  {
   "cell_type": "code",
   "execution_count": 24,
   "metadata": {
    "collapsed": true
   },
   "outputs": [],
   "source": [
    "output_arr = np.array(output_arr)"
   ]
  },
  {
   "cell_type": "code",
   "execution_count": 25,
   "metadata": {
    "collapsed": true
   },
   "outputs": [],
   "source": [
    "stations =np.array(stations)"
   ]
  },
  {
   "cell_type": "code",
   "execution_count": 26,
   "metadata": {
    "collapsed": true
   },
   "outputs": [],
   "source": [
    "date_list = np.array(date_list)"
   ]
  },
  {
   "cell_type": "code",
   "execution_count": null,
   "metadata": {
    "collapsed": true
   },
   "outputs": [],
   "source": []
  },
  {
   "cell_type": "code",
   "execution_count": 27,
   "metadata": {},
   "outputs": [
    {
     "name": "stdout",
     "output_type": "stream",
     "text": [
      "0\n",
      "100000\n",
      "200000\n",
      "300000\n",
      "400000\n",
      "500000\n",
      "600000\n",
      "700000\n",
      "800000\n",
      "900000\n",
      "1000000\n",
      "1100000\n",
      "1200000\n",
      "1300000\n",
      "1400000\n",
      "1500000\n",
      "1600000\n",
      "1700000\n",
      "1800000\n",
      "1900000\n",
      "2000000\n",
      "2100000\n",
      "2200000\n",
      "2300000\n",
      "2400000\n",
      "2500000\n",
      "2600000\n",
      "2700000\n",
      "2800000\n",
      "2900000\n",
      "3000000\n",
      "3100000\n",
      "3200000\n",
      "3300000\n",
      "3400000\n",
      "3500000\n",
      "3600000\n",
      "3700000\n",
      "3800000\n",
      "3900000\n",
      "4000000\n",
      "4100000\n",
      "4200000\n",
      "4300000\n",
      "4400000\n",
      "4500000\n",
      "4600000\n",
      "4700000\n",
      "4800000\n",
      "4900000\n",
      "5000000\n",
      "5100000\n",
      "5200000\n",
      "5300000\n",
      "5400000\n",
      "5500000\n",
      "5600000\n",
      "5700000\n",
      "5800000\n",
      "5900000\n",
      "6000000\n",
      "6100000\n",
      "6200000\n",
      "6300000\n",
      "6400000\n",
      "6500000\n"
     ]
    }
   ],
   "source": [
    "#out\n",
    "for i in xrange(len(df_m[:, 0])):\n",
    "    if ((i%100000)==0):\n",
    "        print i\n",
    "    j =0\n",
    "    while(j<len(input_arr)):  \n",
    "        date1 =(df_m[i][1] - date_list[j])\n",
    "        if (((date1.days == 0) and (date1.seconds<21600)) and (df_m[i][3] == stations[j])):\n",
    "            output_arr[j] = output_arr[j]+1\n",
    "            break\n",
    "        if ((date1.seconds>=21600) or (date1.days != 0)):\n",
    "            j+=number_of_stations\n",
    "        else:\n",
    "            j+=1"
   ]
  },
  {
   "cell_type": "code",
   "execution_count": 28,
   "metadata": {},
   "outputs": [
    {
     "name": "stdout",
     "output_type": "stream",
     "text": [
      "0\n",
      "100000\n",
      "200000\n",
      "300000\n",
      "400000\n",
      "500000\n",
      "600000\n",
      "700000\n",
      "800000\n",
      "900000\n",
      "1000000\n",
      "1100000\n",
      "1200000\n",
      "1300000\n",
      "1400000\n",
      "1500000\n",
      "1600000\n",
      "1700000\n",
      "1800000\n",
      "1900000\n",
      "2000000\n",
      "2100000\n",
      "2200000\n",
      "2300000\n",
      "2400000\n",
      "2500000\n",
      "2600000\n",
      "2700000\n",
      "2800000\n",
      "2900000\n",
      "3000000\n",
      "3100000\n",
      "3200000\n",
      "3300000\n",
      "3400000\n",
      "3500000\n",
      "3600000\n",
      "3700000\n",
      "3800000\n",
      "3900000\n",
      "4000000\n",
      "4100000\n",
      "4200000\n",
      "4300000\n",
      "4400000\n",
      "4500000\n",
      "4600000\n",
      "4700000\n",
      "4800000\n",
      "4900000\n",
      "5000000\n",
      "5100000\n",
      "5200000\n",
      "5300000\n",
      "5400000\n",
      "5500000\n",
      "5600000\n",
      "5700000\n",
      "5800000\n",
      "5900000\n",
      "6000000\n",
      "6100000\n",
      "6200000\n",
      "6300000\n",
      "6400000\n",
      "6500000\n"
     ]
    }
   ],
   "source": [
    "#in\n",
    "for i in xrange(len(df_m[:, 0])):\n",
    "    if ((i%100000)==0):\n",
    "        print i\n",
    "    j =0\n",
    "    while(j<len(input_arr)):  \n",
    "        date2 = (df_m[i][0] - date_list[j])\n",
    "        if (((date2.days == 0) and(date2.seconds<21600)) and (df_m[i][2] == stations[j])):\n",
    "            input_arr[j] = input_arr[j]+1\n",
    "            break\n",
    "        if ((date2.seconds>=21600) or (date2.days != 0)):\n",
    "            j+=number_of_stations\n",
    "        else:\n",
    "            j+=1"
   ]
  },
  {
   "cell_type": "code",
   "execution_count": null,
   "metadata": {
    "collapsed": true
   },
   "outputs": [],
   "source": []
  },
  {
   "cell_type": "code",
   "execution_count": 29,
   "metadata": {
    "collapsed": true
   },
   "outputs": [],
   "source": [
    "df_i = pd.DataFrame({'date' : date_list,'Station Number' : stations, \"Output\":output_arr, \"Input\":input_arr})"
   ]
  },
  {
   "cell_type": "code",
   "execution_count": 30,
   "metadata": {
    "collapsed": true
   },
   "outputs": [],
   "source": [
    "df_i.to_csv(\"2015-2016fixed_final.csv\", sep=\";\")"
   ]
  },
  {
   "cell_type": "code",
   "execution_count": 31,
   "metadata": {
    "collapsed": true
   },
   "outputs": [],
   "source": [
    "summa=sum(input_arr)+sum(output_arr)"
   ]
  },
  {
   "cell_type": "code",
   "execution_count": 34,
   "metadata": {},
   "outputs": [
    {
     "data": {
      "text/plain": [
       "6526694"
      ]
     },
     "execution_count": 34,
     "metadata": {},
     "output_type": "execute_result"
    }
   ],
   "source": [
    "summa/2\n",
    "\n"
   ]
  },
  {
   "cell_type": "code",
   "execution_count": 50,
   "metadata": {
    "collapsed": true
   },
   "outputs": [],
   "source": [
    "del df_i"
   ]
  },
  {
   "cell_type": "code",
   "execution_count": null,
   "metadata": {
    "collapsed": true
   },
   "outputs": [],
   "source": []
  },
  {
   "cell_type": "code",
   "execution_count": 39,
   "metadata": {
    "collapsed": true
   },
   "outputs": [],
   "source": [
    "df_n = pd.read_csv(\"2015-2016.csv\", sep =\";\")"
   ]
  },
  {
   "cell_type": "code",
   "execution_count": 46,
   "metadata": {},
   "outputs": [
    {
     "data": {
      "text/plain": [
       "0"
      ]
     },
     "execution_count": 46,
     "metadata": {},
     "output_type": "execute_result"
    }
   ],
   "source": [
    "input_arr[len(input_arr)-500]"
   ]
  },
  {
   "cell_type": "code",
   "execution_count": 28,
   "metadata": {},
   "outputs": [
    {
     "data": {
      "text/plain": [
       "0"
      ]
     },
     "execution_count": 28,
     "metadata": {},
     "output_type": "execute_result"
    }
   ],
   "source": [
    "output_arr[-1200]"
   ]
  },
  {
   "cell_type": "code",
   "execution_count": 34,
   "metadata": {},
   "outputs": [
    {
     "data": {
      "text/plain": [
       "6526694"
      ]
     },
     "execution_count": 34,
     "metadata": {},
     "output_type": "execute_result"
    }
   ],
   "source": [
    "sum(output_arr)"
   ]
  },
  {
   "cell_type": "code",
   "execution_count": null,
   "metadata": {
    "collapsed": true
   },
   "outputs": [],
   "source": []
  },
  {
   "cell_type": "code",
   "execution_count": null,
   "metadata": {
    "collapsed": true
   },
   "outputs": [],
   "source": []
  },
  {
   "cell_type": "code",
   "execution_count": null,
   "metadata": {
    "collapsed": true
   },
   "outputs": [],
   "source": []
  },
  {
   "cell_type": "code",
   "execution_count": null,
   "metadata": {
    "collapsed": true
   },
   "outputs": [],
   "source": []
  },
  {
   "cell_type": "code",
   "execution_count": null,
   "metadata": {
    "collapsed": true
   },
   "outputs": [],
   "source": []
  },
  {
   "cell_type": "code",
   "execution_count": null,
   "metadata": {
    "collapsed": true
   },
   "outputs": [],
   "source": []
  },
  {
   "cell_type": "code",
   "execution_count": 40,
   "metadata": {},
   "outputs": [
    {
     "data": {
      "text/html": [
       "<div>\n",
       "<style>\n",
       "    .dataframe thead tr:only-child th {\n",
       "        text-align: right;\n",
       "    }\n",
       "\n",
       "    .dataframe thead th {\n",
       "        text-align: left;\n",
       "    }\n",
       "\n",
       "    .dataframe tbody tr th {\n",
       "        vertical-align: top;\n",
       "    }\n",
       "</style>\n",
       "<table border=\"1\" class=\"dataframe\">\n",
       "  <thead>\n",
       "    <tr style=\"text-align: right;\">\n",
       "      <th></th>\n",
       "      <th>Unnamed: 0</th>\n",
       "      <th>Input</th>\n",
       "      <th>Output</th>\n",
       "      <th>Station Number</th>\n",
       "      <th>date</th>\n",
       "    </tr>\n",
       "  </thead>\n",
       "  <tbody>\n",
       "    <tr>\n",
       "      <th>0</th>\n",
       "      <td>0</td>\n",
       "      <td>0</td>\n",
       "      <td>0</td>\n",
       "      <td>Tysons West Transit Center</td>\n",
       "      <td>2014-12-20 00:00:00</td>\n",
       "    </tr>\n",
       "    <tr>\n",
       "      <th>1</th>\n",
       "      <td>1</td>\n",
       "      <td>2</td>\n",
       "      <td>0</td>\n",
       "      <td>S Abingdon St &amp; 36th St S</td>\n",
       "      <td>2014-12-20 00:00:00</td>\n",
       "    </tr>\n",
       "    <tr>\n",
       "      <th>2</th>\n",
       "      <td>2</td>\n",
       "      <td>0</td>\n",
       "      <td>2</td>\n",
       "      <td>61st St &amp; Banks Pl NE</td>\n",
       "      <td>2014-12-20 00:00:00</td>\n",
       "    </tr>\n",
       "    <tr>\n",
       "      <th>3</th>\n",
       "      <td>3</td>\n",
       "      <td>65</td>\n",
       "      <td>70</td>\n",
       "      <td>12th &amp; Newton St NE</td>\n",
       "      <td>2014-12-20 00:00:00</td>\n",
       "    </tr>\n",
       "    <tr>\n",
       "      <th>4</th>\n",
       "      <td>4</td>\n",
       "      <td>262</td>\n",
       "      <td>125</td>\n",
       "      <td>Wilson Blvd &amp; Franklin Rd</td>\n",
       "      <td>2014-12-20 00:00:00</td>\n",
       "    </tr>\n",
       "  </tbody>\n",
       "</table>\n",
       "</div>"
      ],
      "text/plain": [
       "   Unnamed: 0  Input  Output              Station Number                 date\n",
       "0           0      0       0  Tysons West Transit Center  2014-12-20 00:00:00\n",
       "1           1      2       0   S Abingdon St & 36th St S  2014-12-20 00:00:00\n",
       "2           2      0       2       61st St & Banks Pl NE  2014-12-20 00:00:00\n",
       "3           3     65      70         12th & Newton St NE  2014-12-20 00:00:00\n",
       "4           4    262     125   Wilson Blvd & Franklin Rd  2014-12-20 00:00:00"
      ]
     },
     "execution_count": 40,
     "metadata": {},
     "output_type": "execute_result"
    }
   ],
   "source": [
    "df_n.head()"
   ]
  },
  {
   "cell_type": "code",
   "execution_count": null,
   "metadata": {
    "collapsed": true
   },
   "outputs": [],
   "source": []
  },
  {
   "cell_type": "code",
   "execution_count": 35,
   "metadata": {},
   "outputs": [
    {
     "data": {
      "text/plain": [
       "6526694"
      ]
     },
     "execution_count": 35,
     "metadata": {},
     "output_type": "execute_result"
    }
   ],
   "source": [
    "sum(output_arr)"
   ]
  },
  {
   "cell_type": "code",
   "execution_count": null,
   "metadata": {
    "collapsed": true
   },
   "outputs": [],
   "source": []
  },
  {
   "cell_type": "code",
   "execution_count": null,
   "metadata": {
    "collapsed": true
   },
   "outputs": [],
   "source": [
    "list(df[\"Start date\"][0])[0]"
   ]
  },
  {
   "cell_type": "code",
   "execution_count": null,
   "metadata": {
    "collapsed": true
   },
   "outputs": [],
   "source": [
    "date1 =datetime.datetime.strptime(list(df[\"Start date\"][0])[0], '%m/%d/%Y %H:%M')"
   ]
  },
  {
   "cell_type": "code",
   "execution_count": null,
   "metadata": {
    "collapsed": true
   },
   "outputs": [],
   "source": [
    "date1"
   ]
  },
  {
   "cell_type": "code",
   "execution_count": null,
   "metadata": {
    "collapsed": true
   },
   "outputs": [],
   "source": [
    "date2 =datetime.datetime.strptime(list(df[\"Start date\"][10])[0], '%m/%d/%Y %H:%M')"
   ]
  },
  {
   "cell_type": "code",
   "execution_count": null,
   "metadata": {
    "collapsed": true
   },
   "outputs": [],
   "source": [
    "date2"
   ]
  },
  {
   "cell_type": "code",
   "execution_count": null,
   "metadata": {
    "collapsed": true
   },
   "outputs": [],
   "source": [
    "(date2-date1).seconds"
   ]
  },
  {
   "cell_type": "code",
   "execution_count": null,
   "metadata": {
    "collapsed": true
   },
   "outputs": [],
   "source": [
    "960/60"
   ]
  },
  {
   "cell_type": "code",
   "execution_count": null,
   "metadata": {
    "collapsed": true
   },
   "outputs": [],
   "source": [
    "date_time_interval = [6,6,6,6]"
   ]
  },
  {
   "cell_type": "code",
   "execution_count": null,
   "metadata": {
    "collapsed": true
   },
   "outputs": [],
   "source": [
    "date_list1 = []\n",
    "for d in date_list:\n",
    "    str1= str(d.month)+\"/\"+str(d.day)+\"/\"+str(d.year)\n",
    "    for i in xrange(len(num_of_station)):\n",
    "        date_list1.append(str1)"
   ]
  },
  {
   "cell_type": "code",
   "execution_count": null,
   "metadata": {
    "collapsed": true
   },
   "outputs": [],
   "source": [
    "\n",
    "\n",
    "for i in range(10):\n",
    "    print date_list1[i]"
   ]
  },
  {
   "cell_type": "code",
   "execution_count": null,
   "metadata": {
    "collapsed": true
   },
   "outputs": [],
   "source": [
    "number_station = []\n",
    "for i in range(len(date_list)):\n",
    "    for j in num_of_station:\n",
    "        number_station.append(j)"
   ]
  },
  {
   "cell_type": "code",
   "execution_count": null,
   "metadata": {
    "collapsed": true
   },
   "outputs": [],
   "source": [
    "len(date_list1)"
   ]
  },
  {
   "cell_type": "code",
   "execution_count": null,
   "metadata": {
    "collapsed": true
   },
   "outputs": [],
   "source": [
    "len(number_station)"
   ]
  },
  {
   "cell_type": "code",
   "execution_count": null,
   "metadata": {
    "collapsed": true
   },
   "outputs": [],
   "source": [
    "df_o = pd.DataFrame({'date' : date_list1,'Station Number' : number_station, 'Input':[0 for i in xrange(len(number_station))], \"Output\":[0 for i in xrange(len(number_station))]})"
   ]
  },
  {
   "cell_type": "code",
   "execution_count": null,
   "metadata": {
    "collapsed": true,
    "scrolled": true
   },
   "outputs": [],
   "source": [
    "df_o.head(371)"
   ]
  },
  {
   "cell_type": "code",
   "execution_count": null,
   "metadata": {
    "collapsed": true
   },
   "outputs": [],
   "source": []
  },
  {
   "cell_type": "code",
   "execution_count": null,
   "metadata": {
    "collapsed": true
   },
   "outputs": [],
   "source": [
    "out_date = list(df_o[\"date\"])\n",
    "input_data = list(df_o[\"Input\"])\n",
    "output_data=list(df_o[\"Output\"])\n",
    "out_station_number = list(df_o[\"Station Number\"])\n",
    "in_start_date = list(df[\"Start date\"])\n",
    "in_end_date = list(df[\"End date\"])\n",
    "in_start_station = list(df[\"Start station number\"])\n",
    "out_start_station = list(df[\"End station number\"])\n",
    "\n"
   ]
  },
  {
   "cell_type": "code",
   "execution_count": null,
   "metadata": {
    "collapsed": true
   },
   "outputs": [],
   "source": []
  },
  {
   "cell_type": "code",
   "execution_count": null,
   "metadata": {
    "collapsed": true
   },
   "outputs": [],
   "source": [
    "len(df[\"Start date\"])"
   ]
  },
  {
   "cell_type": "code",
   "execution_count": null,
   "metadata": {
    "collapsed": true
   },
   "outputs": [],
   "source": [
    "len(number_station)"
   ]
  },
  {
   "cell_type": "code",
   "execution_count": null,
   "metadata": {
    "collapsed": true
   },
   "outputs": [],
   "source": [
    "len(out_date)"
   ]
  },
  {
   "cell_type": "code",
   "execution_count": null,
   "metadata": {
    "collapsed": true
   },
   "outputs": [],
   "source": [
    "len1 = len(df[\"Start date\"])"
   ]
  },
  {
   "cell_type": "code",
   "execution_count": null,
   "metadata": {
    "collapsed": true
   },
   "outputs": [],
   "source": [
    "len2 = len(out_date)"
   ]
  },
  {
   "cell_type": "code",
   "execution_count": null,
   "metadata": {
    "collapsed": true
   },
   "outputs": [],
   "source": []
  },
  {
   "cell_type": "code",
   "execution_count": null,
   "metadata": {
    "collapsed": true
   },
   "outputs": [],
   "source": [
    "for i in xrange(len1):\n",
    "    if ((i%100000)==0):\n",
    "        print i\n",
    "    j =0\n",
    "    while(j<len2):\n",
    "        \n",
    "        if ((out_date[j] == in_start_date[i]) and (out_station_number[j] == in_start_station[i])): \n",
    "            #print out_date[j]\n",
    "            output_data[j]=output_data[j]+1\n",
    "            break\n",
    "            #print j\n",
    "        if ((out_date[j] != in_start_date[i])):\n",
    "            j+=len(num_of_station)\n",
    "        else:\n",
    "            j+=1\n",
    "        \n"
   ]
  },
  {
   "cell_type": "code",
   "execution_count": null,
   "metadata": {
    "collapsed": true
   },
   "outputs": [],
   "source": [
    "for i in xrange(len1):\n",
    "    if ((i%100000)==0):\n",
    "        print i\n",
    "    j =0\n",
    "    while(j<len2):\n",
    "        if ((out_date[j] == in_end_date[i]) and (out_station_number[j] == out_start_station[i])): \n",
    "            #print out_date[j]\n",
    "            input_data[j]=input_data[j]+1\n",
    "            break\n",
    "            #print j\n",
    "        if ((out_date[j] != in_end_date[i])):\n",
    "            j+=len(num_of_station)\n",
    "        else:\n",
    "            j+=1\n",
    "        \n"
   ]
  },
  {
   "cell_type": "code",
   "execution_count": null,
   "metadata": {
    "collapsed": true
   },
   "outputs": [],
   "source": [
    "for i in range(10):\n",
    "    print input_data[i]"
   ]
  },
  {
   "cell_type": "code",
   "execution_count": null,
   "metadata": {
    "collapsed": true
   },
   "outputs": [],
   "source": [
    "df_o[\"Input\"] =input_data\n",
    "df_o[\"Output\"] = output_data\n",
    "\n"
   ]
  },
  {
   "cell_type": "code",
   "execution_count": null,
   "metadata": {
    "collapsed": true
   },
   "outputs": [],
   "source": [
    "df_o.head(5)"
   ]
  },
  {
   "cell_type": "code",
   "execution_count": null,
   "metadata": {
    "collapsed": true
   },
   "outputs": [],
   "source": [
    "df_o.to_csv(\"2016_all.csv\", \";\")"
   ]
  },
  {
   "cell_type": "code",
   "execution_count": null,
   "metadata": {
    "collapsed": true
   },
   "outputs": [],
   "source": [
    "%%timeit\n",
    "\n",
    "i=0\n",
    "for j in xrange(len(number_station)):\n",
    "        if ((out_date[j] == in_start_date[i]) and (out_station_number[j] == in_start_station[i])): \n",
    "            output_data[j]=output_data[j]+1\n",
    "        if ((out_date[j] == in_end_date[i]) and (out_station_number[j] == out_start_station[i])): \n",
    "            input_data[j]=input_data[j]+1\n",
    "        "
   ]
  },
  {
   "cell_type": "code",
   "execution_count": null,
   "metadata": {
    "collapsed": true
   },
   "outputs": [],
   "source": []
  },
  {
   "cell_type": "code",
   "execution_count": null,
   "metadata": {
    "collapsed": true
   },
   "outputs": [],
   "source": [
    "list_of_station = []\n",
    "list_of_station1 = []\n",
    "for i in df[\"Start station\"]:\n",
    "    list_of_station.append(i)\n",
    "for i in df[\"End station\"]:\n",
    "    list_of_station.append(i)\n",
    "for i in set(list_of_station):\n",
    "    list_of_station1.append(i)\n",
    "    "
   ]
  },
  {
   "cell_type": "code",
   "execution_count": null,
   "metadata": {
    "collapsed": true
   },
   "outputs": [],
   "source": [
    "for i in list_of_station1:\n",
    "    print i"
   ]
  },
  {
   "cell_type": "code",
   "execution_count": null,
   "metadata": {
    "collapsed": true
   },
   "outputs": [],
   "source": [
    "str(date_list[0].year)+\"/\""
   ]
  },
  {
   "cell_type": "code",
   "execution_count": null,
   "metadata": {
    "collapsed": true
   },
   "outputs": [],
   "source": [
    "datetime_object1 = datetime.datetime.strptime(df[\"Start date\"][0], '%m/%d/%Y %H:%M')"
   ]
  },
  {
   "cell_type": "code",
   "execution_count": null,
   "metadata": {
    "collapsed": true
   },
   "outputs": [],
   "source": [
    "datetime_object1"
   ]
  },
  {
   "cell_type": "code",
   "execution_count": null,
   "metadata": {
    "collapsed": true
   },
   "outputs": [],
   "source": [
    "date(df[\"Start date\"]"
   ]
  },
  {
   "cell_type": "code",
   "execution_count": null,
   "metadata": {
    "collapsed": true
   },
   "outputs": [],
   "source": [
    "df['Start date'][0]"
   ]
  },
  {
   "cell_type": "code",
   "execution_count": null,
   "metadata": {
    "collapsed": true
   },
   "outputs": [],
   "source": [
    "df['Start date'][2]"
   ]
  },
  {
   "cell_type": "code",
   "execution_count": null,
   "metadata": {
    "collapsed": true
   },
   "outputs": [],
   "source": [
    "time(df['Start date'][0])"
   ]
  },
  {
   "cell_type": "code",
   "execution_count": null,
   "metadata": {
    "collapsed": true
   },
   "outputs": [],
   "source": [
    "from datetime import datetime"
   ]
  },
  {
   "cell_type": "code",
   "execution_count": null,
   "metadata": {
    "collapsed": true
   },
   "outputs": [],
   "source": [
    "datetime_object = datetime.strptime('3/31/2016 1:1', '%m/%d/%Y %H:%M')"
   ]
  },
  {
   "cell_type": "code",
   "execution_count": null,
   "metadata": {
    "collapsed": true
   },
   "outputs": [],
   "source": [
    "datetime_object"
   ]
  },
  {
   "cell_type": "code",
   "execution_count": null,
   "metadata": {
    "collapsed": true
   },
   "outputs": [],
   "source": [
    "datetime_object = datetime.strptime(df['Start date'][0], '%m/%d/%Y %H:%M')"
   ]
  },
  {
   "cell_type": "code",
   "execution_count": null,
   "metadata": {
    "collapsed": true
   },
   "outputs": [],
   "source": [
    "for i in ra"
   ]
  },
  {
   "cell_type": "code",
   "execution_count": null,
   "metadata": {
    "collapsed": true
   },
   "outputs": [],
   "source": [
    "datetime_object1 = datetime.strptime('3/31/2016 1:1', '%m/%d/%Y %H:%M')"
   ]
  },
  {
   "cell_type": "code",
   "execution_count": null,
   "metadata": {
    "collapsed": true
   },
   "outputs": [],
   "source": [
    "datetime_object2 = datetime.strptime('3/30/2016 1:1', '%m/%d/%Y %H:%M')"
   ]
  },
  {
   "cell_type": "code",
   "execution_count": null,
   "metadata": {
    "collapsed": true
   },
   "outputs": [],
   "source": [
    "datetime_object1- datetime_object2"
   ]
  },
  {
   "cell_type": "code",
   "execution_count": null,
   "metadata": {
    "collapsed": true
   },
   "outputs": [],
   "source": [
    "datetime.timedelta(1)"
   ]
  },
  {
   "cell_type": "code",
   "execution_count": null,
   "metadata": {
    "collapsed": true
   },
   "outputs": [],
   "source": []
  }
 ],
 "metadata": {
  "kernelspec": {
   "display_name": "Python 2",
   "language": "python",
   "name": "python2"
  },
  "language_info": {
   "codemirror_mode": {
    "name": "ipython",
    "version": 2
   },
   "file_extension": ".py",
   "mimetype": "text/x-python",
   "name": "python",
   "nbconvert_exporter": "python",
   "pygments_lexer": "ipython2",
   "version": "2.7.13"
  }
 },
 "nbformat": 4,
 "nbformat_minor": 2
}
