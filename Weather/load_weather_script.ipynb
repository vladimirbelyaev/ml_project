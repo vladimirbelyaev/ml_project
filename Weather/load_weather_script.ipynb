{
 "cells": [
  {
   "cell_type": "code",
   "execution_count": 1,
   "metadata": {
    "collapsed": true
   },
   "outputs": [],
   "source": [
    "import requests\n",
    "import requesocks\n",
    "import json\n",
    "#import grab\n",
    "import logging\n",
    "import codecs\n",
    "from lxml.etree import ElementTree, fromstring\n",
    "from bs4 import BeautifulSoup\n",
    "from tqdm import tqdm\n",
    "from multiprocessing.dummy import Pool as ThreadPool\n",
    "from IPython.display import HTML\n",
    "import sqlite3 as sq\n",
    "import pandas as pd\n",
    "from stem import Signal\n",
    "from stem.control import Controller\n",
    "import numpy as np\n",
    "import re\n",
    "from torrequest import TorRequest\n",
    "import time\n",
    "import datetime\n",
    "from datetime import date\n",
    "import zipfile"
   ]
  },
  {
   "cell_type": "code",
   "execution_count": 2,
   "metadata": {
    "collapsed": true
   },
   "outputs": [],
   "source": [
    "def get_tor_session():\n",
    "    session = requests.session()\n",
    "    # Tor uses the 9050 port as the default socks port\n",
    "    session.proxies = {'http':  'socks5://127.0.0.1:9050',\n",
    "                       'https': 'socks5://127.0.0.1:9050'}\n",
    "    session.headers.update({\n",
    "        'User-Agent': 'Mozilla/5.0 (X11; Ubuntu; Linux x86_64; rv:56.0) Gecko/20100101 Firefox/56.0'\n",
    "    })\n",
    "    \n",
    "    return session\n",
    "\n",
    "# signal TOR for a new connection \n",
    "def renew_connection():\n",
    "    with Controller.from_port(port = 9051) as controller:\n",
    "        controller.authenticate(password=\"3246\")\n",
    "        controller.signal(Signal.NEWNYM)\n",
    "        \n",
    "def get_my_ip(session):\n",
    "    text = session.get(\"https://httpbin.org/ip\").text\n",
    "    ipjson = json.loads(text)\n",
    "    return ipjson['origin']"
   ]
  },
  {
   "cell_type": "code",
   "execution_count": 3,
   "metadata": {
    "collapsed": true
   },
   "outputs": [],
   "source": [
    "def create_session():\n",
    "    session = requests.session()\n",
    "    # Tor uses the 9050 port as the default socks port\n",
    "#     session.proxies = {'http':  'socks5://127.0.0.1:9050',\n",
    "#                        'https': 'socks5://127.0.0.1:9050'}\n",
    "#     session.headers.update({\n",
    "#         'User-Agent': 'Mozilla/5.0 (X11; Ubuntu; Linux x86_64; rv:56.0) Gecko/20100101 Firefox/56.0'\n",
    "#     })\n",
    "    return session"
   ]
  },
  {
   "cell_type": "code",
   "execution_count": 4,
   "metadata": {},
   "outputs": [],
   "source": [
    "MY_KEY = \"0e7262816e22e8ec\"\n",
    "\n",
    "emails = ['iuqrr@hi2.in', 'pitbox531@gmail.com', 'pitbox96_t1@outlook.com', 'pitbox96_t2@mail.ru','pitbox96_t3@mail.ru']\n",
    "keys = ['11fa55c46ce6fb9c', '0e7262816e22e8ec', '5c9f96bf5020569e', 'c3a1b0883114ce1c', '38e6ac0087e81d0f']\n",
    "\n",
    "# date_str = \"20060405\"\n",
    "#location_str = \"NY/New_York\" \n",
    "location_str = \"DC/Washington\"\n",
    "loc_short = \"DC_Washington\"\n",
    "\n",
    "# url = \"http://api.wunderground.com/api/{0}/history_{1}/q/{2}.json\".format(MY_KEY,date_str ,location_str)\n",
    "\n",
    "# session = create_session()\n",
    "# json_text = session.get(url).text\n",
    "\n",
    "# print json_text\n",
    "\n",
    "def get_json_request(date, location, api_key, session):\n",
    "    date_str = date.strftime('%Y%m%d')\n",
    "    url = \"http://api.wunderground.com/api/{0}/history_{1}/q/{2}.json\".format(api_key, date_str ,location)\n",
    "    json_text = session.get(url).text\n",
    "    \n",
    "    #json_res = json.loads(json_text)\n",
    "    return json_text\n",
    "    "
   ]
  },
  {
   "cell_type": "code",
   "execution_count": 18,
   "metadata": {},
   "outputs": [
    {
     "data": {
      "application/vnd.jupyter.widget-view+json": {
       "model_id": "339f68476a7b434cbd44ff687b533255"
      }
     },
     "metadata": {},
     "output_type": "display_data"
    },
    {
     "name": "stdout",
     "output_type": "stream",
     "text": [
      "100  saved! :  2017-03-14\n",
      "200  saved! :  2017-06-22\n",
      "300  saved! :  2017-09-30\n",
      "\n"
     ]
    }
   ],
   "source": [
    "from tqdm import tnrange, tqdm_notebook\n",
    "from time import sleep\n",
    "\n",
    "def daterange(date1, date2):\n",
    "    for n in range(int ((date2 - date1).days)+1):\n",
    "        yield date1 + datetime.timedelta(n)\n",
    "        \n",
    "        \n",
    "def download_weather():\n",
    "    st_date = datetime.date(2012, 1, 1)\n",
    "    \n",
    "    st_date += datetime.timedelta(1800)\n",
    "    \n",
    "    #cur_date = st_date  \n",
    "    end_date = datetime.date(2017, 11, 20)\n",
    "    \n",
    "    dates = [x for x in daterange(st_date, end_date)]\n",
    "\n",
    "    df = pd.DataFrame(columns = ['loc','date', 'json'])\n",
    "\n",
    "    res_data = []\n",
    "\n",
    "    idx = 1\n",
    "    \n",
    "    key_index = 2\n",
    "    \n",
    "    for cur_date in tqdm_notebook(dates):\n",
    "        session = create_session()\n",
    "        cur_json_text = get_json_request(cur_date, location_str, keys[key_index], session)\n",
    "        \n",
    "        row = {'loc': location_str, 'date':str(cur_date), 'json': cur_json_text}\n",
    "        \n",
    "        res_data.append(row)\n",
    "        \n",
    "        #cur_date += datetime.timedelta(days=1)\n",
    "\n",
    "        if idx % 100 == 0:\n",
    "            print str(idx), \" saved! : \", str(cur_date)\n",
    "            df1 = pd.DataFrame(res_data)\n",
    "            df1.to_csv(\"result_\"+str(idx)+\"_\" + loc_short +\".gz\", compression=\"gzip\")\n",
    "            #key_index = (key_index + 1) % len(keys)  \n",
    "\n",
    "        idx += 1\n",
    "\n",
    "\n",
    "    df = pd.DataFrame(res_data)\n",
    "    df.to_csv(\"result_\"+ loc_short + \".gz\", compression=\"gzip\")\n",
    "\n",
    "download_weather()"
   ]
  },
  {
   "cell_type": "code",
   "execution_count": 16,
   "metadata": {},
   "outputs": [
    {
     "data": {
      "text/plain": [
       "datetime.date(2016, 12, 5)"
      ]
     },
     "execution_count": 16,
     "metadata": {},
     "output_type": "execute_result"
    }
   ],
   "source": [
    "\n",
    "\n",
    "# st_date = datetime.date(2012, 1, 1)\n",
    "# cur_date = st_date  \n",
    "# end_date = datetime.date(2012, 1, 20)\n",
    "\n",
    "# dates = daterange(st_date, end_date)\n",
    "# list1 =  [x for x in dates]\n",
    "# list1\n",
    "\n",
    "st_date = datetime.date(2012, 1, 1)\n",
    "st_date += datetime.timedelta(1800)\n",
    "st_date"
   ]
  },
  {
   "cell_type": "code",
   "execution_count": 49,
   "metadata": {},
   "outputs": [
    {
     "data": {
      "text/html": [
       "<div>\n",
       "<style>\n",
       "    .dataframe thead tr:only-child th {\n",
       "        text-align: right;\n",
       "    }\n",
       "\n",
       "    .dataframe thead th {\n",
       "        text-align: left;\n",
       "    }\n",
       "\n",
       "    .dataframe tbody tr th {\n",
       "        vertical-align: top;\n",
       "    }\n",
       "</style>\n",
       "<table border=\"1\" class=\"dataframe\">\n",
       "  <thead>\n",
       "    <tr style=\"text-align: right;\">\n",
       "      <th></th>\n",
       "      <th>Unnamed: 0</th>\n",
       "      <th>date</th>\n",
       "      <th>json</th>\n",
       "      <th>loc</th>\n",
       "    </tr>\n",
       "  </thead>\n",
       "  <tbody>\n",
       "    <tr>\n",
       "      <th>0</th>\n",
       "      <td>0</td>\n",
       "      <td>2006-04-05</td>\n",
       "      <td>\\n{\\n  \"response\": {\\n  \"version\":\"0.1\",\\n  \"t...</td>\n",
       "      <td>NY</td>\n",
       "    </tr>\n",
       "    <tr>\n",
       "      <th>1</th>\n",
       "      <td>1</td>\n",
       "      <td>2006-04-06</td>\n",
       "      <td>\\n{\\n  \"response\": {\\n  \"version\":\"0.1\",\\n  \"t...</td>\n",
       "      <td>NY</td>\n",
       "    </tr>\n",
       "    <tr>\n",
       "      <th>2</th>\n",
       "      <td>2</td>\n",
       "      <td>2006-04-07</td>\n",
       "      <td>\\n{\\n  \"response\": {\\n  \"version\":\"0.1\",\\n  \"t...</td>\n",
       "      <td>NY</td>\n",
       "    </tr>\n",
       "    <tr>\n",
       "      <th>3</th>\n",
       "      <td>3</td>\n",
       "      <td>2006-04-08</td>\n",
       "      <td>\\n{\\n  \"response\": {\\n  \"version\":\"0.1\",\\n  \"t...</td>\n",
       "      <td>NY</td>\n",
       "    </tr>\n",
       "    <tr>\n",
       "      <th>4</th>\n",
       "      <td>4</td>\n",
       "      <td>2006-04-09</td>\n",
       "      <td>\\n{\\n  \"response\": {\\n  \"version\":\"0.1\",\\n  \"t...</td>\n",
       "      <td>NY</td>\n",
       "    </tr>\n",
       "  </tbody>\n",
       "</table>\n",
       "</div>"
      ],
      "text/plain": [
       "   Unnamed: 0        date                                               json  \\\n",
       "0           0  2006-04-05  \\n{\\n  \"response\": {\\n  \"version\":\"0.1\",\\n  \"t...   \n",
       "1           1  2006-04-06  \\n{\\n  \"response\": {\\n  \"version\":\"0.1\",\\n  \"t...   \n",
       "2           2  2006-04-07  \\n{\\n  \"response\": {\\n  \"version\":\"0.1\",\\n  \"t...   \n",
       "3           3  2006-04-08  \\n{\\n  \"response\": {\\n  \"version\":\"0.1\",\\n  \"t...   \n",
       "4           4  2006-04-09  \\n{\\n  \"response\": {\\n  \"version\":\"0.1\",\\n  \"t...   \n",
       "\n",
       "  loc  \n",
       "0  NY  \n",
       "1  NY  \n",
       "2  NY  \n",
       "3  NY  \n",
       "4  NY  "
      ]
     },
     "execution_count": 49,
     "metadata": {},
     "output_type": "execute_result"
    }
   ],
   "source": [
    "df_new = pd.read_csv(\"sample_result_NY.gz\", compression=\"gzip\")\n",
    "df_new.head()"
   ]
  },
  {
   "cell_type": "code",
   "execution_count": null,
   "metadata": {
    "collapsed": true
   },
   "outputs": [],
   "source": []
  }
 ],
 "metadata": {
  "kernelspec": {
   "display_name": "Python 2",
   "language": "python",
   "name": "python2"
  },
  "language_info": {
   "codemirror_mode": {
    "name": "ipython",
    "version": 2
   },
   "file_extension": ".py",
   "mimetype": "text/x-python",
   "name": "python",
   "nbconvert_exporter": "python",
   "pygments_lexer": "ipython2",
   "version": "2.7.13"
  }
 },
 "nbformat": 4,
 "nbformat_minor": 2
}
